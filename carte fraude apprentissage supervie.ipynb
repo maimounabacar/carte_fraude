{
 "cells": [
  {
   "cell_type": "markdown",
   "id": "a9c72aac",
   "metadata": {},
   "source": [
    "# <center> Carte et transaction frauduleuse"
   ]
  },
  {
   "cell_type": "markdown",
   "id": "2f2b6717",
   "metadata": {},
   "source": [
    "# 1. Introduction"
   ]
  },
  {
   "cell_type": "code",
   "execution_count": 1,
   "id": "ae2d3fc0",
   "metadata": {},
   "outputs": [],
   "source": [
    "import warnings\n",
    "\n",
    "warnings.filterwarnings(\"ignore\")"
   ]
  },
  {
   "cell_type": "code",
   "execution_count": 2,
   "id": "17e8c8cb",
   "metadata": {},
   "outputs": [
    {
     "name": "stdout",
     "output_type": "stream",
     "text": [
      "Requirement already satisfied: svm in c:\\users\\maimo\\anaconda3\\lib\\site-packages (0.1.0)\n",
      "Requirement already satisfied: requests in c:\\users\\maimo\\anaconda3\\lib\\site-packages (from svm) (2.31.0)\n",
      "Requirement already satisfied: colorama in c:\\users\\maimo\\anaconda3\\lib\\site-packages (from svm) (0.4.6)\n",
      "Requirement already satisfied: xmltodict in c:\\users\\maimo\\anaconda3\\lib\\site-packages (from svm) (0.13.0)\n",
      "Requirement already satisfied: charset-normalizer<4,>=2 in c:\\users\\maimo\\anaconda3\\lib\\site-packages (from requests->svm) (2.0.4)\n",
      "Requirement already satisfied: idna<4,>=2.5 in c:\\users\\maimo\\anaconda3\\lib\\site-packages (from requests->svm) (3.4)\n",
      "Requirement already satisfied: urllib3<3,>=1.21.1 in c:\\users\\maimo\\anaconda3\\lib\\site-packages (from requests->svm) (1.26.16)\n",
      "Requirement already satisfied: certifi>=2017.4.17 in c:\\users\\maimo\\anaconda3\\lib\\site-packages (from requests->svm) (2023.7.22)\n"
     ]
    }
   ],
   "source": [
    "!pip install svm"
   ]
  },
  {
   "cell_type": "markdown",
   "id": "d9973b3a",
   "metadata": {},
   "source": [
    "## 1.1 Les librairies python utilisées dans notre programme"
   ]
  },
  {
   "cell_type": "code",
   "execution_count": 3,
   "id": "b9357ba8",
   "metadata": {},
   "outputs": [
    {
     "data": {
      "application/javascript": [
       "\n",
       "            setTimeout(function() {\n",
       "                var nbb_cell_id = 3;\n",
       "                var nbb_unformatted_code = \"%load_ext nb_black\";\n",
       "                var nbb_formatted_code = \"%load_ext nb_black\";\n",
       "                var nbb_cells = Jupyter.notebook.get_cells();\n",
       "                for (var i = 0; i < nbb_cells.length; ++i) {\n",
       "                    if (nbb_cells[i].input_prompt_number == nbb_cell_id) {\n",
       "                        if (nbb_cells[i].get_text() == nbb_unformatted_code) {\n",
       "                             nbb_cells[i].set_text(nbb_formatted_code);\n",
       "                        }\n",
       "                        break;\n",
       "                    }\n",
       "                }\n",
       "            }, 500);\n",
       "            "
      ],
      "text/plain": [
       "<IPython.core.display.Javascript object>"
      ]
     },
     "metadata": {},
     "output_type": "display_data"
    }
   ],
   "source": [
    "%load_ext nb_black"
   ]
  },
  {
   "cell_type": "code",
   "execution_count": 4,
   "id": "a1d3576d",
   "metadata": {},
   "outputs": [
    {
     "data": {
      "application/javascript": [
       "\n",
       "            setTimeout(function() {\n",
       "                var nbb_cell_id = 4;\n",
       "                var nbb_unformatted_code = \"from sklearn import metrics\";\n",
       "                var nbb_formatted_code = \"from sklearn import metrics\";\n",
       "                var nbb_cells = Jupyter.notebook.get_cells();\n",
       "                for (var i = 0; i < nbb_cells.length; ++i) {\n",
       "                    if (nbb_cells[i].input_prompt_number == nbb_cell_id) {\n",
       "                        if (nbb_cells[i].get_text() == nbb_unformatted_code) {\n",
       "                             nbb_cells[i].set_text(nbb_formatted_code);\n",
       "                        }\n",
       "                        break;\n",
       "                    }\n",
       "                }\n",
       "            }, 500);\n",
       "            "
      ],
      "text/plain": [
       "<IPython.core.display.Javascript object>"
      ]
     },
     "metadata": {},
     "output_type": "display_data"
    }
   ],
   "source": [
    "from sklearn import metrics"
   ]
  },
  {
   "cell_type": "code",
   "execution_count": 5,
   "id": "f945375c",
   "metadata": {},
   "outputs": [
    {
     "data": {
      "application/javascript": [
       "\n",
       "            setTimeout(function() {\n",
       "                var nbb_cell_id = 5;\n",
       "                var nbb_unformatted_code = \"from sklearn import svm\";\n",
       "                var nbb_formatted_code = \"from sklearn import svm\";\n",
       "                var nbb_cells = Jupyter.notebook.get_cells();\n",
       "                for (var i = 0; i < nbb_cells.length; ++i) {\n",
       "                    if (nbb_cells[i].input_prompt_number == nbb_cell_id) {\n",
       "                        if (nbb_cells[i].get_text() == nbb_unformatted_code) {\n",
       "                             nbb_cells[i].set_text(nbb_formatted_code);\n",
       "                        }\n",
       "                        break;\n",
       "                    }\n",
       "                }\n",
       "            }, 500);\n",
       "            "
      ],
      "text/plain": [
       "<IPython.core.display.Javascript object>"
      ]
     },
     "metadata": {},
     "output_type": "display_data"
    }
   ],
   "source": [
    "from sklearn import svm"
   ]
  },
  {
   "cell_type": "code",
   "execution_count": 6,
   "id": "b56be4c3",
   "metadata": {},
   "outputs": [
    {
     "data": {
      "application/javascript": [
       "\n",
       "            setTimeout(function() {\n",
       "                var nbb_cell_id = 6;\n",
       "                var nbb_unformatted_code = \"#base\\nimport numpy as np\\nimport pandas as pd\\nimport matplotlib.pyplot as plt\\nimport seaborn as sns\\nimport os\\n\\n\\n# sklearn\\nfrom sklearn.model_selection import train_test_split\\nfrom sklearn.compose import ColumnTransformer\\n\\n# Transformateurs de variables\\nfrom sklearn.preprocessing import StandardScaler\\n\\n# Cr\\u00e9ation de pipelines\\n\\nfrom sklearn.pipeline import Pipeline\\nfrom sklearn.pipeline import make_pipeline\\n\\n\\n\\n# model de machine learning\\nfrom sklearn.ensemble import RandomForestClassifier\\nfrom sklearn.neighbors import KNeighborsClassifier\\nfrom sklearn.linear_model import LogisticRegression\\nfrom sklearn.svm import SVC\\n\\n\\nfrom sklearn.model_selection import (\\n    cross_val_score,\\n    cross_val_predict,\\n    validation_curve,\\n    GridSearchCV,\\n)\\n#from sklearn.ensemble import GradientBoostingRegressor\\n\\n#temps\\nimport time\\n\\n\\nfrom sklearn.compose import ColumnTransformer\\n\\nfrom sklearn.compose import make_column_transformer\";\n",
       "                var nbb_formatted_code = \"# base\\nimport numpy as np\\nimport pandas as pd\\nimport matplotlib.pyplot as plt\\nimport seaborn as sns\\nimport os\\n\\n\\n# sklearn\\nfrom sklearn.model_selection import train_test_split\\nfrom sklearn.compose import ColumnTransformer\\n\\n# Transformateurs de variables\\nfrom sklearn.preprocessing import StandardScaler\\n\\n# Cr\\u00e9ation de pipelines\\n\\nfrom sklearn.pipeline import Pipeline\\nfrom sklearn.pipeline import make_pipeline\\n\\n\\n# model de machine learning\\nfrom sklearn.ensemble import RandomForestClassifier\\nfrom sklearn.neighbors import KNeighborsClassifier\\nfrom sklearn.linear_model import LogisticRegression\\nfrom sklearn.svm import SVC\\n\\n\\nfrom sklearn.model_selection import (\\n    cross_val_score,\\n    cross_val_predict,\\n    validation_curve,\\n    GridSearchCV,\\n)\\n\\n# from sklearn.ensemble import GradientBoostingRegressor\\n\\n# temps\\nimport time\\n\\n\\nfrom sklearn.compose import ColumnTransformer\\n\\nfrom sklearn.compose import make_column_transformer\";\n",
       "                var nbb_cells = Jupyter.notebook.get_cells();\n",
       "                for (var i = 0; i < nbb_cells.length; ++i) {\n",
       "                    if (nbb_cells[i].input_prompt_number == nbb_cell_id) {\n",
       "                        if (nbb_cells[i].get_text() == nbb_unformatted_code) {\n",
       "                             nbb_cells[i].set_text(nbb_formatted_code);\n",
       "                        }\n",
       "                        break;\n",
       "                    }\n",
       "                }\n",
       "            }, 500);\n",
       "            "
      ],
      "text/plain": [
       "<IPython.core.display.Javascript object>"
      ]
     },
     "metadata": {},
     "output_type": "display_data"
    }
   ],
   "source": [
    "#base\n",
    "import numpy as np\n",
    "import pandas as pd\n",
    "import matplotlib.pyplot as plt\n",
    "import seaborn as sns\n",
    "import os\n",
    "\n",
    "\n",
    "# sklearn\n",
    "from sklearn.model_selection import train_test_split\n",
    "from sklearn.compose import ColumnTransformer\n",
    "\n",
    "# Transformateurs de variables\n",
    "from sklearn.preprocessing import StandardScaler\n",
    "\n",
    "# Création de pipelines\n",
    "\n",
    "from sklearn.pipeline import Pipeline\n",
    "from sklearn.pipeline import make_pipeline\n",
    "\n",
    "\n",
    "\n",
    "# model de machine learning\n",
    "from sklearn.ensemble import RandomForestClassifier\n",
    "from sklearn.neighbors import KNeighborsClassifier\n",
    "from sklearn.linear_model import LogisticRegression\n",
    "from sklearn.svm import SVC\n",
    "\n",
    "\n",
    "from sklearn.model_selection import (\n",
    "    cross_val_score,\n",
    "    cross_val_predict,\n",
    "    validation_curve,\n",
    "    GridSearchCV,\n",
    ")\n",
    "#from sklearn.ensemble import GradientBoostingRegressor\n",
    "\n",
    "#temps\n",
    "import time\n",
    "\n",
    "\n",
    "from sklearn.compose import ColumnTransformer\n",
    "\n",
    "from sklearn.compose import make_column_transformer\n"
   ]
  },
  {
   "cell_type": "code",
   "execution_count": 7,
   "id": "7af29460",
   "metadata": {},
   "outputs": [
    {
     "name": "stdout",
     "output_type": "stream",
     "text": [
      "matplotlib: 3.7.1\n",
      "numpy: 1.24.3\n",
      "pandas: 1.5.3\n",
      "seaborn: 0.12.2\n"
     ]
    },
    {
     "data": {
      "application/javascript": [
       "\n",
       "            setTimeout(function() {\n",
       "                var nbb_cell_id = 7;\n",
       "                var nbb_unformatted_code = \"import matplotlib\\n\\nprint(\\\"matplotlib: {}\\\".format(matplotlib.__version__))\\nprint(\\\"numpy: {}\\\".format(np.__version__))\\nprint(\\\"pandas: {}\\\".format(pd.__version__))\\nprint(\\\"seaborn: {}\\\".format(sns.__version__))\";\n",
       "                var nbb_formatted_code = \"import matplotlib\\n\\nprint(\\\"matplotlib: {}\\\".format(matplotlib.__version__))\\nprint(\\\"numpy: {}\\\".format(np.__version__))\\nprint(\\\"pandas: {}\\\".format(pd.__version__))\\nprint(\\\"seaborn: {}\\\".format(sns.__version__))\";\n",
       "                var nbb_cells = Jupyter.notebook.get_cells();\n",
       "                for (var i = 0; i < nbb_cells.length; ++i) {\n",
       "                    if (nbb_cells[i].input_prompt_number == nbb_cell_id) {\n",
       "                        if (nbb_cells[i].get_text() == nbb_unformatted_code) {\n",
       "                             nbb_cells[i].set_text(nbb_formatted_code);\n",
       "                        }\n",
       "                        break;\n",
       "                    }\n",
       "                }\n",
       "            }, 500);\n",
       "            "
      ],
      "text/plain": [
       "<IPython.core.display.Javascript object>"
      ]
     },
     "metadata": {},
     "output_type": "display_data"
    }
   ],
   "source": [
    "import matplotlib\n",
    "\n",
    "print(\"matplotlib: {}\".format(matplotlib.__version__))\n",
    "print(\"numpy: {}\".format(np.__version__))\n",
    "print(\"pandas: {}\".format(pd.__version__))\n",
    "print(\"seaborn: {}\".format(sns.__version__))"
   ]
  },
  {
   "cell_type": "markdown",
   "id": "80758ef9",
   "metadata": {},
   "source": [
    "## 1.2 Les fichiers des données contenus dans le dossier"
   ]
  },
  {
   "cell_type": "code",
   "execution_count": 8,
   "id": "c075a9f5",
   "metadata": {},
   "outputs": [
    {
     "data": {
      "text/plain": [
       "['administratif',\n",
       " 'ann',\n",
       " 'BACAR_Maimouna_1_notebook_pretraitement_feature_extraction_faisaibilite_082023.ipynb',\n",
       " 'CNN',\n",
       " 'creditcard2023.csv',\n",
       " 'dataset',\n",
       " 'desktop.ini',\n",
       " 'diamant',\n",
       " 'dvdrental',\n",
       " 'dvdrental.tar',\n",
       " 'Face Mask Dataset',\n",
       " 'Ma musique',\n",
       " 'mariage',\n",
       " 'Mes images',\n",
       " 'Mes vidéos',\n",
       " 'montre',\n",
       " 'PRIX telephone',\n",
       " 'projet 3',\n",
       " 'projet 4',\n",
       " 'RIZ',\n",
       " 'spam',\n",
       " 'sql learn.sql']"
      ]
     },
     "execution_count": 8,
     "metadata": {},
     "output_type": "execute_result"
    },
    {
     "data": {
      "application/javascript": [
       "\n",
       "            setTimeout(function() {\n",
       "                var nbb_cell_id = 8;\n",
       "                var nbb_unformatted_code = \"# Affecter une variable avec le chemin vers le dossier\\npath = \\\"C:/Users/maimo/Documents/\\\"\\nos.listdir(path)  # methode affichant tous les fichiers contenus dans notre dossier\";\n",
       "                var nbb_formatted_code = \"# Affecter une variable avec le chemin vers le dossier\\npath = \\\"C:/Users/maimo/Documents/\\\"\\nos.listdir(path)  # methode affichant tous les fichiers contenus dans notre dossier\";\n",
       "                var nbb_cells = Jupyter.notebook.get_cells();\n",
       "                for (var i = 0; i < nbb_cells.length; ++i) {\n",
       "                    if (nbb_cells[i].input_prompt_number == nbb_cell_id) {\n",
       "                        if (nbb_cells[i].get_text() == nbb_unformatted_code) {\n",
       "                             nbb_cells[i].set_text(nbb_formatted_code);\n",
       "                        }\n",
       "                        break;\n",
       "                    }\n",
       "                }\n",
       "            }, 500);\n",
       "            "
      ],
      "text/plain": [
       "<IPython.core.display.Javascript object>"
      ]
     },
     "metadata": {},
     "output_type": "display_data"
    }
   ],
   "source": [
    "# Affecter une variable avec le chemin vers le dossier\n",
    "path = \"C:/Users/maimo/Documents/\"\n",
    "os.listdir(path)  # methode affichant tous les fichiers contenus dans notre dossier"
   ]
  },
  {
   "cell_type": "markdown",
   "id": "b21245cb",
   "metadata": {},
   "source": [
    "# 2. Data"
   ]
  },
  {
   "cell_type": "markdown",
   "id": "f2e262a2",
   "metadata": {},
   "source": [
    "## 2.1 Présentation du data"
   ]
  },
  {
   "cell_type": "code",
   "execution_count": 9,
   "id": "ffc554ec",
   "metadata": {},
   "outputs": [
    {
     "data": {
      "application/javascript": [
       "\n",
       "            setTimeout(function() {\n",
       "                var nbb_cell_id = 9;\n",
       "                var nbb_unformatted_code = \"credit = pd.read_csv(path + \\\"creditcard2023.csv\\\")\";\n",
       "                var nbb_formatted_code = \"credit = pd.read_csv(path + \\\"creditcard2023.csv\\\")\";\n",
       "                var nbb_cells = Jupyter.notebook.get_cells();\n",
       "                for (var i = 0; i < nbb_cells.length; ++i) {\n",
       "                    if (nbb_cells[i].input_prompt_number == nbb_cell_id) {\n",
       "                        if (nbb_cells[i].get_text() == nbb_unformatted_code) {\n",
       "                             nbb_cells[i].set_text(nbb_formatted_code);\n",
       "                        }\n",
       "                        break;\n",
       "                    }\n",
       "                }\n",
       "            }, 500);\n",
       "            "
      ],
      "text/plain": [
       "<IPython.core.display.Javascript object>"
      ]
     },
     "metadata": {},
     "output_type": "display_data"
    }
   ],
   "source": [
    "credit = pd.read_csv(path + \"creditcard2023.csv\")"
   ]
  },
  {
   "cell_type": "code",
   "execution_count": 10,
   "id": "f789483d",
   "metadata": {
    "scrolled": true
   },
   "outputs": [
    {
     "data": {
      "text/html": [
       "<div>\n",
       "<style scoped>\n",
       "    .dataframe tbody tr th:only-of-type {\n",
       "        vertical-align: middle;\n",
       "    }\n",
       "\n",
       "    .dataframe tbody tr th {\n",
       "        vertical-align: top;\n",
       "    }\n",
       "\n",
       "    .dataframe thead th {\n",
       "        text-align: right;\n",
       "    }\n",
       "</style>\n",
       "<table border=\"1\" class=\"dataframe\">\n",
       "  <thead>\n",
       "    <tr style=\"text-align: right;\">\n",
       "      <th></th>\n",
       "      <th>id</th>\n",
       "      <th>V1</th>\n",
       "      <th>V2</th>\n",
       "      <th>V3</th>\n",
       "      <th>V4</th>\n",
       "      <th>V5</th>\n",
       "      <th>V6</th>\n",
       "      <th>V7</th>\n",
       "      <th>V8</th>\n",
       "      <th>V9</th>\n",
       "      <th>...</th>\n",
       "      <th>V21</th>\n",
       "      <th>V22</th>\n",
       "      <th>V23</th>\n",
       "      <th>V24</th>\n",
       "      <th>V25</th>\n",
       "      <th>V26</th>\n",
       "      <th>V27</th>\n",
       "      <th>V28</th>\n",
       "      <th>Amount</th>\n",
       "      <th>Class</th>\n",
       "    </tr>\n",
       "  </thead>\n",
       "  <tbody>\n",
       "    <tr>\n",
       "      <th>0</th>\n",
       "      <td>0</td>\n",
       "      <td>-0.260648</td>\n",
       "      <td>-0.469648</td>\n",
       "      <td>2.496266</td>\n",
       "      <td>-0.083724</td>\n",
       "      <td>0.129681</td>\n",
       "      <td>0.732898</td>\n",
       "      <td>0.519014</td>\n",
       "      <td>-0.130006</td>\n",
       "      <td>0.727159</td>\n",
       "      <td>...</td>\n",
       "      <td>-0.110552</td>\n",
       "      <td>0.217606</td>\n",
       "      <td>-0.134794</td>\n",
       "      <td>0.165959</td>\n",
       "      <td>0.126280</td>\n",
       "      <td>-0.434824</td>\n",
       "      <td>-0.081230</td>\n",
       "      <td>-0.151045</td>\n",
       "      <td>17982.10</td>\n",
       "      <td>0</td>\n",
       "    </tr>\n",
       "    <tr>\n",
       "      <th>1</th>\n",
       "      <td>1</td>\n",
       "      <td>0.985100</td>\n",
       "      <td>-0.356045</td>\n",
       "      <td>0.558056</td>\n",
       "      <td>-0.429654</td>\n",
       "      <td>0.277140</td>\n",
       "      <td>0.428605</td>\n",
       "      <td>0.406466</td>\n",
       "      <td>-0.133118</td>\n",
       "      <td>0.347452</td>\n",
       "      <td>...</td>\n",
       "      <td>-0.194936</td>\n",
       "      <td>-0.605761</td>\n",
       "      <td>0.079469</td>\n",
       "      <td>-0.577395</td>\n",
       "      <td>0.190090</td>\n",
       "      <td>0.296503</td>\n",
       "      <td>-0.248052</td>\n",
       "      <td>-0.064512</td>\n",
       "      <td>6531.37</td>\n",
       "      <td>0</td>\n",
       "    </tr>\n",
       "    <tr>\n",
       "      <th>2</th>\n",
       "      <td>2</td>\n",
       "      <td>-0.260272</td>\n",
       "      <td>-0.949385</td>\n",
       "      <td>1.728538</td>\n",
       "      <td>-0.457986</td>\n",
       "      <td>0.074062</td>\n",
       "      <td>1.419481</td>\n",
       "      <td>0.743511</td>\n",
       "      <td>-0.095576</td>\n",
       "      <td>-0.261297</td>\n",
       "      <td>...</td>\n",
       "      <td>-0.005020</td>\n",
       "      <td>0.702906</td>\n",
       "      <td>0.945045</td>\n",
       "      <td>-1.154666</td>\n",
       "      <td>-0.605564</td>\n",
       "      <td>-0.312895</td>\n",
       "      <td>-0.300258</td>\n",
       "      <td>-0.244718</td>\n",
       "      <td>2513.54</td>\n",
       "      <td>0</td>\n",
       "    </tr>\n",
       "    <tr>\n",
       "      <th>3</th>\n",
       "      <td>3</td>\n",
       "      <td>-0.152152</td>\n",
       "      <td>-0.508959</td>\n",
       "      <td>1.746840</td>\n",
       "      <td>-1.090178</td>\n",
       "      <td>0.249486</td>\n",
       "      <td>1.143312</td>\n",
       "      <td>0.518269</td>\n",
       "      <td>-0.065130</td>\n",
       "      <td>-0.205698</td>\n",
       "      <td>...</td>\n",
       "      <td>-0.146927</td>\n",
       "      <td>-0.038212</td>\n",
       "      <td>-0.214048</td>\n",
       "      <td>-1.893131</td>\n",
       "      <td>1.003963</td>\n",
       "      <td>-0.515950</td>\n",
       "      <td>-0.165316</td>\n",
       "      <td>0.048424</td>\n",
       "      <td>5384.44</td>\n",
       "      <td>0</td>\n",
       "    </tr>\n",
       "    <tr>\n",
       "      <th>4</th>\n",
       "      <td>4</td>\n",
       "      <td>-0.206820</td>\n",
       "      <td>-0.165280</td>\n",
       "      <td>1.527053</td>\n",
       "      <td>-0.448293</td>\n",
       "      <td>0.106125</td>\n",
       "      <td>0.530549</td>\n",
       "      <td>0.658849</td>\n",
       "      <td>-0.212660</td>\n",
       "      <td>1.049921</td>\n",
       "      <td>...</td>\n",
       "      <td>-0.106984</td>\n",
       "      <td>0.729727</td>\n",
       "      <td>-0.161666</td>\n",
       "      <td>0.312561</td>\n",
       "      <td>-0.414116</td>\n",
       "      <td>1.071126</td>\n",
       "      <td>0.023712</td>\n",
       "      <td>0.419117</td>\n",
       "      <td>14278.97</td>\n",
       "      <td>0</td>\n",
       "    </tr>\n",
       "  </tbody>\n",
       "</table>\n",
       "<p>5 rows × 31 columns</p>\n",
       "</div>"
      ],
      "text/plain": [
       "   id        V1        V2        V3        V4        V5        V6        V7  \\\n",
       "0   0 -0.260648 -0.469648  2.496266 -0.083724  0.129681  0.732898  0.519014   \n",
       "1   1  0.985100 -0.356045  0.558056 -0.429654  0.277140  0.428605  0.406466   \n",
       "2   2 -0.260272 -0.949385  1.728538 -0.457986  0.074062  1.419481  0.743511   \n",
       "3   3 -0.152152 -0.508959  1.746840 -1.090178  0.249486  1.143312  0.518269   \n",
       "4   4 -0.206820 -0.165280  1.527053 -0.448293  0.106125  0.530549  0.658849   \n",
       "\n",
       "         V8        V9  ...       V21       V22       V23       V24       V25  \\\n",
       "0 -0.130006  0.727159  ... -0.110552  0.217606 -0.134794  0.165959  0.126280   \n",
       "1 -0.133118  0.347452  ... -0.194936 -0.605761  0.079469 -0.577395  0.190090   \n",
       "2 -0.095576 -0.261297  ... -0.005020  0.702906  0.945045 -1.154666 -0.605564   \n",
       "3 -0.065130 -0.205698  ... -0.146927 -0.038212 -0.214048 -1.893131  1.003963   \n",
       "4 -0.212660  1.049921  ... -0.106984  0.729727 -0.161666  0.312561 -0.414116   \n",
       "\n",
       "        V26       V27       V28    Amount  Class  \n",
       "0 -0.434824 -0.081230 -0.151045  17982.10      0  \n",
       "1  0.296503 -0.248052 -0.064512   6531.37      0  \n",
       "2 -0.312895 -0.300258 -0.244718   2513.54      0  \n",
       "3 -0.515950 -0.165316  0.048424   5384.44      0  \n",
       "4  1.071126  0.023712  0.419117  14278.97      0  \n",
       "\n",
       "[5 rows x 31 columns]"
      ]
     },
     "execution_count": 10,
     "metadata": {},
     "output_type": "execute_result"
    },
    {
     "data": {
      "application/javascript": [
       "\n",
       "            setTimeout(function() {\n",
       "                var nbb_cell_id = 10;\n",
       "                var nbb_unformatted_code = \"credit.head()\";\n",
       "                var nbb_formatted_code = \"credit.head()\";\n",
       "                var nbb_cells = Jupyter.notebook.get_cells();\n",
       "                for (var i = 0; i < nbb_cells.length; ++i) {\n",
       "                    if (nbb_cells[i].input_prompt_number == nbb_cell_id) {\n",
       "                        if (nbb_cells[i].get_text() == nbb_unformatted_code) {\n",
       "                             nbb_cells[i].set_text(nbb_formatted_code);\n",
       "                        }\n",
       "                        break;\n",
       "                    }\n",
       "                }\n",
       "            }, 500);\n",
       "            "
      ],
      "text/plain": [
       "<IPython.core.display.Javascript object>"
      ]
     },
     "metadata": {},
     "output_type": "display_data"
    }
   ],
   "source": [
    "credit.head()"
   ]
  },
  {
   "cell_type": "code",
   "execution_count": 11,
   "id": "28aeb7e8",
   "metadata": {},
   "outputs": [
    {
     "name": "stdout",
     "output_type": "stream",
     "text": [
      "shape : (568630, 31)\n",
      "le nombre de lignes est : 568630\n",
      "le nombre de colonnes est : 31\n"
     ]
    },
    {
     "data": {
      "application/javascript": [
       "\n",
       "            setTimeout(function() {\n",
       "                var nbb_cell_id = 11;\n",
       "                var nbb_unformatted_code = \"print(f\\\"shape : {credit.shape}\\\")\\nprint(f\\\"le nombre de lignes est : {credit.shape[0]}\\\")\\nprint(f\\\"le nombre de colonnes est : {credit.shape[1]}\\\")\";\n",
       "                var nbb_formatted_code = \"print(f\\\"shape : {credit.shape}\\\")\\nprint(f\\\"le nombre de lignes est : {credit.shape[0]}\\\")\\nprint(f\\\"le nombre de colonnes est : {credit.shape[1]}\\\")\";\n",
       "                var nbb_cells = Jupyter.notebook.get_cells();\n",
       "                for (var i = 0; i < nbb_cells.length; ++i) {\n",
       "                    if (nbb_cells[i].input_prompt_number == nbb_cell_id) {\n",
       "                        if (nbb_cells[i].get_text() == nbb_unformatted_code) {\n",
       "                             nbb_cells[i].set_text(nbb_formatted_code);\n",
       "                        }\n",
       "                        break;\n",
       "                    }\n",
       "                }\n",
       "            }, 500);\n",
       "            "
      ],
      "text/plain": [
       "<IPython.core.display.Javascript object>"
      ]
     },
     "metadata": {},
     "output_type": "display_data"
    }
   ],
   "source": [
    "print(f\"shape : {credit.shape}\")\n",
    "print(f\"le nombre de lignes est : {credit.shape[0]}\")\n",
    "print(f\"le nombre de colonnes est : {credit.shape[1]}\")"
   ]
  },
  {
   "cell_type": "markdown",
   "id": "72d45dfe",
   "metadata": {},
   "source": [
    "* **id :** Identifiant unique pour chaque transaction\n",
    "* **V1-V28 :** fonctionnalités anonymisées représentant divers attributs de transaction (par exemple, heure, lieu, etc.)\n",
    "* **Montant :** Le montant de la transaction\n",
    "* **Classe :** Libellé binaire indiquant si la transaction est frauduleuse (1) ou non (0)"
   ]
  },
  {
   "cell_type": "code",
   "execution_count": 12,
   "id": "fb537c33",
   "metadata": {},
   "outputs": [
    {
     "name": "stdout",
     "output_type": "stream",
     "text": [
      "<class 'pandas.core.frame.DataFrame'>\n",
      "RangeIndex: 568630 entries, 0 to 568629\n",
      "Data columns (total 31 columns):\n",
      " #   Column  Non-Null Count   Dtype  \n",
      "---  ------  --------------   -----  \n",
      " 0   id      568630 non-null  int64  \n",
      " 1   V1      568630 non-null  float64\n",
      " 2   V2      568630 non-null  float64\n",
      " 3   V3      568630 non-null  float64\n",
      " 4   V4      568630 non-null  float64\n",
      " 5   V5      568630 non-null  float64\n",
      " 6   V6      568630 non-null  float64\n",
      " 7   V7      568630 non-null  float64\n",
      " 8   V8      568630 non-null  float64\n",
      " 9   V9      568630 non-null  float64\n",
      " 10  V10     568630 non-null  float64\n",
      " 11  V11     568630 non-null  float64\n",
      " 12  V12     568630 non-null  float64\n",
      " 13  V13     568630 non-null  float64\n",
      " 14  V14     568630 non-null  float64\n",
      " 15  V15     568630 non-null  float64\n",
      " 16  V16     568630 non-null  float64\n",
      " 17  V17     568630 non-null  float64\n",
      " 18  V18     568630 non-null  float64\n",
      " 19  V19     568630 non-null  float64\n",
      " 20  V20     568630 non-null  float64\n",
      " 21  V21     568630 non-null  float64\n",
      " 22  V22     568630 non-null  float64\n",
      " 23  V23     568630 non-null  float64\n",
      " 24  V24     568630 non-null  float64\n",
      " 25  V25     568630 non-null  float64\n",
      " 26  V26     568630 non-null  float64\n",
      " 27  V27     568630 non-null  float64\n",
      " 28  V28     568630 non-null  float64\n",
      " 29  Amount  568630 non-null  float64\n",
      " 30  Class   568630 non-null  int64  \n",
      "dtypes: float64(29), int64(2)\n",
      "memory usage: 134.5 MB\n"
     ]
    },
    {
     "data": {
      "application/javascript": [
       "\n",
       "            setTimeout(function() {\n",
       "                var nbb_cell_id = 12;\n",
       "                var nbb_unformatted_code = \"credit.info()\";\n",
       "                var nbb_formatted_code = \"credit.info()\";\n",
       "                var nbb_cells = Jupyter.notebook.get_cells();\n",
       "                for (var i = 0; i < nbb_cells.length; ++i) {\n",
       "                    if (nbb_cells[i].input_prompt_number == nbb_cell_id) {\n",
       "                        if (nbb_cells[i].get_text() == nbb_unformatted_code) {\n",
       "                             nbb_cells[i].set_text(nbb_formatted_code);\n",
       "                        }\n",
       "                        break;\n",
       "                    }\n",
       "                }\n",
       "            }, 500);\n",
       "            "
      ],
      "text/plain": [
       "<IPython.core.display.Javascript object>"
      ]
     },
     "metadata": {},
     "output_type": "display_data"
    }
   ],
   "source": [
    "credit.info()"
   ]
  },
  {
   "cell_type": "markdown",
   "id": "267bf5ca",
   "metadata": {},
   "source": [
    "## 2.2 Colonnes numériques"
   ]
  },
  {
   "cell_type": "code",
   "execution_count": 13,
   "id": "b00c18d4",
   "metadata": {
    "scrolled": true
   },
   "outputs": [
    {
     "data": {
      "text/plain": [
       "Index(['id', 'V1', 'V2', 'V3', 'V4', 'V5', 'V6', 'V7', 'V8', 'V9', 'V10',\n",
       "       'V11', 'V12', 'V13', 'V14', 'V15', 'V16', 'V17', 'V18', 'V19', 'V20',\n",
       "       'V21', 'V22', 'V23', 'V24', 'V25', 'V26', 'V27', 'V28', 'Amount',\n",
       "       'Class'],\n",
       "      dtype='object')"
      ]
     },
     "execution_count": 13,
     "metadata": {},
     "output_type": "execute_result"
    },
    {
     "data": {
      "application/javascript": [
       "\n",
       "            setTimeout(function() {\n",
       "                var nbb_cell_id = 13;\n",
       "                var nbb_unformatted_code = \"cols_num_tot = credit.select_dtypes(\\n    include=np.number\\n).columns  # les colonnes num\\u00e9riques\\ncols_num_tot\";\n",
       "                var nbb_formatted_code = \"cols_num_tot = credit.select_dtypes(\\n    include=np.number\\n).columns  # les colonnes num\\u00e9riques\\ncols_num_tot\";\n",
       "                var nbb_cells = Jupyter.notebook.get_cells();\n",
       "                for (var i = 0; i < nbb_cells.length; ++i) {\n",
       "                    if (nbb_cells[i].input_prompt_number == nbb_cell_id) {\n",
       "                        if (nbb_cells[i].get_text() == nbb_unformatted_code) {\n",
       "                             nbb_cells[i].set_text(nbb_formatted_code);\n",
       "                        }\n",
       "                        break;\n",
       "                    }\n",
       "                }\n",
       "            }, 500);\n",
       "            "
      ],
      "text/plain": [
       "<IPython.core.display.Javascript object>"
      ]
     },
     "metadata": {},
     "output_type": "display_data"
    }
   ],
   "source": [
    "cols_num_tot = credit.select_dtypes(\n",
    "    include=np.number\n",
    ").columns  # les colonnes numériques\n",
    "cols_num_tot"
   ]
  },
  {
   "cell_type": "markdown",
   "id": "4765ffb6",
   "metadata": {},
   "source": [
    "Nous avons ainsi toutes les colonnes numérique affichées ci-dessus."
   ]
  },
  {
   "cell_type": "code",
   "execution_count": 14,
   "id": "841ea1e9",
   "metadata": {},
   "outputs": [
    {
     "name": "stdout",
     "output_type": "stream",
     "text": [
      "il y a 31 colonnes numériques\n"
     ]
    },
    {
     "data": {
      "application/javascript": [
       "\n",
       "            setTimeout(function() {\n",
       "                var nbb_cell_id = 14;\n",
       "                var nbb_unformatted_code = \"print(f\\\"il y a {len(cols_num_tot)} colonnes num\\u00e9riques\\\")\";\n",
       "                var nbb_formatted_code = \"print(f\\\"il y a {len(cols_num_tot)} colonnes num\\u00e9riques\\\")\";\n",
       "                var nbb_cells = Jupyter.notebook.get_cells();\n",
       "                for (var i = 0; i < nbb_cells.length; ++i) {\n",
       "                    if (nbb_cells[i].input_prompt_number == nbb_cell_id) {\n",
       "                        if (nbb_cells[i].get_text() == nbb_unformatted_code) {\n",
       "                             nbb_cells[i].set_text(nbb_formatted_code);\n",
       "                        }\n",
       "                        break;\n",
       "                    }\n",
       "                }\n",
       "            }, 500);\n",
       "            "
      ],
      "text/plain": [
       "<IPython.core.display.Javascript object>"
      ]
     },
     "metadata": {},
     "output_type": "display_data"
    }
   ],
   "source": [
    "print(f\"il y a {len(cols_num_tot)} colonnes numériques\")"
   ]
  },
  {
   "cell_type": "markdown",
   "id": "edfb8d48",
   "metadata": {},
   "source": [
    "## 2.3  credit[ 'Class' ]"
   ]
  },
  {
   "cell_type": "code",
   "execution_count": 15,
   "id": "60a51a0a",
   "metadata": {},
   "outputs": [
    {
     "data": {
      "text/plain": [
       "count    568630.0\n",
       "mean          0.5\n",
       "std           0.5\n",
       "min           0.0\n",
       "25%           0.0\n",
       "50%           0.5\n",
       "75%           1.0\n",
       "max           1.0\n",
       "Name: Class, dtype: float64"
      ]
     },
     "execution_count": 15,
     "metadata": {},
     "output_type": "execute_result"
    },
    {
     "data": {
      "application/javascript": [
       "\n",
       "            setTimeout(function() {\n",
       "                var nbb_cell_id = 15;\n",
       "                var nbb_unformatted_code = \"credit[\\\"Class\\\"].describe()\";\n",
       "                var nbb_formatted_code = \"credit[\\\"Class\\\"].describe()\";\n",
       "                var nbb_cells = Jupyter.notebook.get_cells();\n",
       "                for (var i = 0; i < nbb_cells.length; ++i) {\n",
       "                    if (nbb_cells[i].input_prompt_number == nbb_cell_id) {\n",
       "                        if (nbb_cells[i].get_text() == nbb_unformatted_code) {\n",
       "                             nbb_cells[i].set_text(nbb_formatted_code);\n",
       "                        }\n",
       "                        break;\n",
       "                    }\n",
       "                }\n",
       "            }, 500);\n",
       "            "
      ],
      "text/plain": [
       "<IPython.core.display.Javascript object>"
      ]
     },
     "metadata": {},
     "output_type": "display_data"
    }
   ],
   "source": [
    "credit[\"Class\"].describe()"
   ]
  },
  {
   "cell_type": "code",
   "execution_count": 78,
   "id": "dd3ab0f3",
   "metadata": {},
   "outputs": [
    {
     "data": {
      "image/png": "[encoded data removed]",
      "text/plain": [
       "<Figure size 600x300 with 1 Axes>"
      ]
     },
     "metadata": {},
     "output_type": "display_data"
    },
    {
     "data": {
      "application/javascript": [
       "\n",
       "            setTimeout(function() {\n",
       "                var nbb_cell_id = 78;\n",
       "                var nbb_unformatted_code = \"ax, fig = plt.subplots(figsize=(6, 3))\\nax = sns.countplot(y=\\\"Class\\\", data=credit)\\nax.set_title(\\\"La distribution de cartes fraud\\u00e9es \\\\n\\\", fontsize=16)\\n\\nfor p in ax.patches:\\n    percentage = \\\"{:.1f}%\\\".format(100 * p.get_width() / len(credit.Class))\\n    x = p.get_x() + p.get_width()\\n    y = p.get_y() + p.get_height() / 2\\n    ax.annotate(percentage, (x, y), fontsize=12, fontweight=\\\"bold\\\")\";\n",
       "                var nbb_formatted_code = \"ax, fig = plt.subplots(figsize=(6, 3))\\nax = sns.countplot(y=\\\"Class\\\", data=credit)\\nax.set_title(\\\"La distribution de cartes fraud\\u00e9es \\\\n\\\", fontsize=16)\\n\\nfor p in ax.patches:\\n    percentage = \\\"{:.1f}%\\\".format(100 * p.get_width() / len(credit.Class))\\n    x = p.get_x() + p.get_width()\\n    y = p.get_y() + p.get_height() / 2\\n    ax.annotate(percentage, (x, y), fontsize=12, fontweight=\\\"bold\\\")\";\n",
       "                var nbb_cells = Jupyter.notebook.get_cells();\n",
       "                for (var i = 0; i < nbb_cells.length; ++i) {\n",
       "                    if (nbb_cells[i].input_prompt_number == nbb_cell_id) {\n",
       "                        if (nbb_cells[i].get_text() == nbb_unformatted_code) {\n",
       "                             nbb_cells[i].set_text(nbb_formatted_code);\n",
       "                        }\n",
       "                        break;\n",
       "                    }\n",
       "                }\n",
       "            }, 500);\n",
       "            "
      ],
      "text/plain": [
       "<IPython.core.display.Javascript object>"
      ]
     },
     "metadata": {},
     "output_type": "display_data"
    }
   ],
   "source": [
    "ax, fig = plt.subplots(figsize=(6, 3))\n",
    "ax = sns.countplot(y=\"Class\", data=credit)\n",
    "ax.set_title(\"La distribution de cartes fraudées \\n\", fontsize=16)\n",
    "\n",
    "for p in ax.patches:\n",
    "    percentage = \"{:.1f}%\".format(100 * p.get_width() / len(credit.Class))\n",
    "    x = p.get_x() + p.get_width()\n",
    "    y = p.get_y() + p.get_height() / 2\n",
    "    ax.annotate(percentage, (x, y), fontsize=12, fontweight=\"bold\")\n"
   ]
  },
  {
   "cell_type": "markdown",
   "id": "44bba36c",
   "metadata": {},
   "source": [
    "# 3. Target et features"
   ]
  },
  {
   "cell_type": "markdown",
   "id": "adac4a27",
   "metadata": {},
   "source": [
    "## 3.1 Taget :  'credit[\"Class\"]'"
   ]
  },
  {
   "cell_type": "markdown",
   "id": "0cd076bf",
   "metadata": {},
   "source": [
    "Dans ce notebook la valeur à prédire, nommée target, est 'Class'."
   ]
  },
  {
   "cell_type": "code",
   "execution_count": 17,
   "id": "8aa1abe1",
   "metadata": {},
   "outputs": [
    {
     "data": {
      "text/plain": [
       "0         0\n",
       "1         0\n",
       "2         0\n",
       "3         0\n",
       "4         0\n",
       "         ..\n",
       "568625    1\n",
       "568626    1\n",
       "568627    1\n",
       "568628    1\n",
       "568629    1\n",
       "Name: Class, Length: 568630, dtype: int64"
      ]
     },
     "execution_count": 17,
     "metadata": {},
     "output_type": "execute_result"
    },
    {
     "data": {
      "application/javascript": [
       "\n",
       "            setTimeout(function() {\n",
       "                var nbb_cell_id = 17;\n",
       "                var nbb_unformatted_code = \"Y = credit[\\\"Class\\\"]  # target\\nY\";\n",
       "                var nbb_formatted_code = \"Y = credit[\\\"Class\\\"]  # target\\nY\";\n",
       "                var nbb_cells = Jupyter.notebook.get_cells();\n",
       "                for (var i = 0; i < nbb_cells.length; ++i) {\n",
       "                    if (nbb_cells[i].input_prompt_number == nbb_cell_id) {\n",
       "                        if (nbb_cells[i].get_text() == nbb_unformatted_code) {\n",
       "                             nbb_cells[i].set_text(nbb_formatted_code);\n",
       "                        }\n",
       "                        break;\n",
       "                    }\n",
       "                }\n",
       "            }, 500);\n",
       "            "
      ],
      "text/plain": [
       "<IPython.core.display.Javascript object>"
      ]
     },
     "metadata": {},
     "output_type": "display_data"
    }
   ],
   "source": [
    "Y = credit[\"Class\"]  # target\n",
    "Y"
   ]
  },
  {
   "cell_type": "markdown",
   "id": "9eab04a5",
   "metadata": {},
   "source": [
    " ## 3.2 Features"
   ]
  },
  {
   "cell_type": "markdown",
   "id": "ea1eb862",
   "metadata": {},
   "source": [
    "Feactures correspondent aux variables permettant de prédire le target."
   ]
  },
  {
   "cell_type": "code",
   "execution_count": 18,
   "id": "8d30da38",
   "metadata": {},
   "outputs": [
    {
     "data": {
      "text/plain": [
       "Index(['id', 'V1', 'V2', 'V3', 'V4', 'V5', 'V6', 'V7', 'V8', 'V9', 'V10',\n",
       "       'V11', 'V12', 'V13', 'V14', 'V15', 'V16', 'V17', 'V18', 'V19', 'V20',\n",
       "       'V21', 'V22', 'V23', 'V24', 'V25', 'V26', 'V27', 'V28', 'Amount',\n",
       "       'Class'],\n",
       "      dtype='object')"
      ]
     },
     "execution_count": 18,
     "metadata": {},
     "output_type": "execute_result"
    },
    {
     "data": {
      "application/javascript": [
       "\n",
       "            setTimeout(function() {\n",
       "                var nbb_cell_id = 18;\n",
       "                var nbb_unformatted_code = \"credit.columns\";\n",
       "                var nbb_formatted_code = \"credit.columns\";\n",
       "                var nbb_cells = Jupyter.notebook.get_cells();\n",
       "                for (var i = 0; i < nbb_cells.length; ++i) {\n",
       "                    if (nbb_cells[i].input_prompt_number == nbb_cell_id) {\n",
       "                        if (nbb_cells[i].get_text() == nbb_unformatted_code) {\n",
       "                             nbb_cells[i].set_text(nbb_formatted_code);\n",
       "                        }\n",
       "                        break;\n",
       "                    }\n",
       "                }\n",
       "            }, 500);\n",
       "            "
      ],
      "text/plain": [
       "<IPython.core.display.Javascript object>"
      ]
     },
     "metadata": {},
     "output_type": "display_data"
    }
   ],
   "source": [
    "credit.columns"
   ]
  },
  {
   "cell_type": "markdown",
   "id": "bb9b8d05",
   "metadata": {},
   "source": [
    "Tout d'abord nous allons créer une liste des features"
   ]
  },
  {
   "cell_type": "code",
   "execution_count": 19,
   "id": "9237bbbc",
   "metadata": {},
   "outputs": [
    {
     "data": {
      "text/plain": [
       "['V1',\n",
       " 'V2',\n",
       " 'V3',\n",
       " 'V4',\n",
       " 'V5',\n",
       " 'V6',\n",
       " 'V7',\n",
       " 'V8',\n",
       " 'V9',\n",
       " 'V10',\n",
       " 'V11',\n",
       " 'V12',\n",
       " 'V13',\n",
       " 'V14',\n",
       " 'V15',\n",
       " 'V16',\n",
       " 'V17',\n",
       " 'V18',\n",
       " 'V19',\n",
       " 'V20',\n",
       " 'V21',\n",
       " 'V22',\n",
       " 'V23',\n",
       " 'V24',\n",
       " 'V25',\n",
       " 'V26',\n",
       " 'V27',\n",
       " 'V28',\n",
       " 'Amount']"
      ]
     },
     "execution_count": 19,
     "metadata": {},
     "output_type": "execute_result"
    },
    {
     "data": {
      "application/javascript": [
       "\n",
       "            setTimeout(function() {\n",
       "                var nbb_cell_id = 19;\n",
       "                var nbb_unformatted_code = \"# liste des features\\ncolonne_feature = [\\n    \\\"V1\\\",\\n    \\\"V2\\\",\\n    \\\"V3\\\",\\n    \\\"V4\\\",\\n    \\\"V5\\\",\\n    \\\"V6\\\",\\n    \\\"V7\\\",\\n    \\\"V8\\\",\\n    \\\"V9\\\",\\n    \\\"V10\\\",\\n    \\\"V11\\\",\\n    \\\"V12\\\",\\n    \\\"V13\\\",\\n    \\\"V14\\\",\\n    \\\"V15\\\",\\n    \\\"V16\\\",\\n    \\\"V17\\\",\\n    \\\"V18\\\",\\n    \\\"V19\\\",\\n    \\\"V20\\\",\\n    \\\"V21\\\",\\n    \\\"V22\\\",\\n    \\\"V23\\\",\\n    \\\"V24\\\",\\n    \\\"V25\\\",\\n    \\\"V26\\\",\\n    \\\"V27\\\",\\n    \\\"V28\\\",\\n    \\\"Amount\\\",\\n]\\ncolonne_feature\";\n",
       "                var nbb_formatted_code = \"# liste des features\\ncolonne_feature = [\\n    \\\"V1\\\",\\n    \\\"V2\\\",\\n    \\\"V3\\\",\\n    \\\"V4\\\",\\n    \\\"V5\\\",\\n    \\\"V6\\\",\\n    \\\"V7\\\",\\n    \\\"V8\\\",\\n    \\\"V9\\\",\\n    \\\"V10\\\",\\n    \\\"V11\\\",\\n    \\\"V12\\\",\\n    \\\"V13\\\",\\n    \\\"V14\\\",\\n    \\\"V15\\\",\\n    \\\"V16\\\",\\n    \\\"V17\\\",\\n    \\\"V18\\\",\\n    \\\"V19\\\",\\n    \\\"V20\\\",\\n    \\\"V21\\\",\\n    \\\"V22\\\",\\n    \\\"V23\\\",\\n    \\\"V24\\\",\\n    \\\"V25\\\",\\n    \\\"V26\\\",\\n    \\\"V27\\\",\\n    \\\"V28\\\",\\n    \\\"Amount\\\",\\n]\\ncolonne_feature\";\n",
       "                var nbb_cells = Jupyter.notebook.get_cells();\n",
       "                for (var i = 0; i < nbb_cells.length; ++i) {\n",
       "                    if (nbb_cells[i].input_prompt_number == nbb_cell_id) {\n",
       "                        if (nbb_cells[i].get_text() == nbb_unformatted_code) {\n",
       "                             nbb_cells[i].set_text(nbb_formatted_code);\n",
       "                        }\n",
       "                        break;\n",
       "                    }\n",
       "                }\n",
       "            }, 500);\n",
       "            "
      ],
      "text/plain": [
       "<IPython.core.display.Javascript object>"
      ]
     },
     "metadata": {},
     "output_type": "display_data"
    }
   ],
   "source": [
    "# liste des features\n",
    "colonne_feature = [\n",
    "    \"V1\",\n",
    "    \"V2\",\n",
    "    \"V3\",\n",
    "    \"V4\",\n",
    "    \"V5\",\n",
    "    \"V6\",\n",
    "    \"V7\",\n",
    "    \"V8\",\n",
    "    \"V9\",\n",
    "    \"V10\",\n",
    "    \"V11\",\n",
    "    \"V12\",\n",
    "    \"V13\",\n",
    "    \"V14\",\n",
    "    \"V15\",\n",
    "    \"V16\",\n",
    "    \"V17\",\n",
    "    \"V18\",\n",
    "    \"V19\",\n",
    "    \"V20\",\n",
    "    \"V21\",\n",
    "    \"V22\",\n",
    "    \"V23\",\n",
    "    \"V24\",\n",
    "    \"V25\",\n",
    "    \"V26\",\n",
    "    \"V27\",\n",
    "    \"V28\",\n",
    "    \"Amount\",\n",
    "]\n",
    "colonne_feature"
   ]
  },
  {
   "cell_type": "markdown",
   "id": "660d9b91",
   "metadata": {},
   "source": [
    "Ensuite nous réaliserons un dataframe X avec les colonnes de notre liste 'colonne_feature' à partir du dataframe credit"
   ]
  },
  {
   "cell_type": "code",
   "execution_count": 20,
   "id": "262a2658",
   "metadata": {
    "scrolled": false
   },
   "outputs": [
    {
     "data": {
      "text/html": [
       "<div>\n",
       "<style scoped>\n",
       "    .dataframe tbody tr th:only-of-type {\n",
       "        vertical-align: middle;\n",
       "    }\n",
       "\n",
       "    .dataframe tbody tr th {\n",
       "        vertical-align: top;\n",
       "    }\n",
       "\n",
       "    .dataframe thead th {\n",
       "        text-align: right;\n",
       "    }\n",
       "</style>\n",
       "<table border=\"1\" class=\"dataframe\">\n",
       "  <thead>\n",
       "    <tr style=\"text-align: right;\">\n",
       "      <th></th>\n",
       "      <th>V1</th>\n",
       "      <th>V2</th>\n",
       "      <th>V3</th>\n",
       "      <th>V4</th>\n",
       "      <th>V5</th>\n",
       "      <th>V6</th>\n",
       "      <th>V7</th>\n",
       "      <th>V8</th>\n",
       "      <th>V9</th>\n",
       "      <th>V10</th>\n",
       "      <th>...</th>\n",
       "      <th>V20</th>\n",
       "      <th>V21</th>\n",
       "      <th>V22</th>\n",
       "      <th>V23</th>\n",
       "      <th>V24</th>\n",
       "      <th>V25</th>\n",
       "      <th>V26</th>\n",
       "      <th>V27</th>\n",
       "      <th>V28</th>\n",
       "      <th>Amount</th>\n",
       "    </tr>\n",
       "  </thead>\n",
       "  <tbody>\n",
       "    <tr>\n",
       "      <th>0</th>\n",
       "      <td>-0.260648</td>\n",
       "      <td>-0.469648</td>\n",
       "      <td>2.496266</td>\n",
       "      <td>-0.083724</td>\n",
       "      <td>0.129681</td>\n",
       "      <td>0.732898</td>\n",
       "      <td>0.519014</td>\n",
       "      <td>-0.130006</td>\n",
       "      <td>0.727159</td>\n",
       "      <td>0.637735</td>\n",
       "      <td>...</td>\n",
       "      <td>0.091202</td>\n",
       "      <td>-0.110552</td>\n",
       "      <td>0.217606</td>\n",
       "      <td>-0.134794</td>\n",
       "      <td>0.165959</td>\n",
       "      <td>0.126280</td>\n",
       "      <td>-0.434824</td>\n",
       "      <td>-0.081230</td>\n",
       "      <td>-0.151045</td>\n",
       "      <td>17982.10</td>\n",
       "    </tr>\n",
       "    <tr>\n",
       "      <th>1</th>\n",
       "      <td>0.985100</td>\n",
       "      <td>-0.356045</td>\n",
       "      <td>0.558056</td>\n",
       "      <td>-0.429654</td>\n",
       "      <td>0.277140</td>\n",
       "      <td>0.428605</td>\n",
       "      <td>0.406466</td>\n",
       "      <td>-0.133118</td>\n",
       "      <td>0.347452</td>\n",
       "      <td>0.529808</td>\n",
       "      <td>...</td>\n",
       "      <td>-0.233984</td>\n",
       "      <td>-0.194936</td>\n",
       "      <td>-0.605761</td>\n",
       "      <td>0.079469</td>\n",
       "      <td>-0.577395</td>\n",
       "      <td>0.190090</td>\n",
       "      <td>0.296503</td>\n",
       "      <td>-0.248052</td>\n",
       "      <td>-0.064512</td>\n",
       "      <td>6531.37</td>\n",
       "    </tr>\n",
       "    <tr>\n",
       "      <th>2</th>\n",
       "      <td>-0.260272</td>\n",
       "      <td>-0.949385</td>\n",
       "      <td>1.728538</td>\n",
       "      <td>-0.457986</td>\n",
       "      <td>0.074062</td>\n",
       "      <td>1.419481</td>\n",
       "      <td>0.743511</td>\n",
       "      <td>-0.095576</td>\n",
       "      <td>-0.261297</td>\n",
       "      <td>0.690708</td>\n",
       "      <td>...</td>\n",
       "      <td>0.361652</td>\n",
       "      <td>-0.005020</td>\n",
       "      <td>0.702906</td>\n",
       "      <td>0.945045</td>\n",
       "      <td>-1.154666</td>\n",
       "      <td>-0.605564</td>\n",
       "      <td>-0.312895</td>\n",
       "      <td>-0.300258</td>\n",
       "      <td>-0.244718</td>\n",
       "      <td>2513.54</td>\n",
       "    </tr>\n",
       "    <tr>\n",
       "      <th>3</th>\n",
       "      <td>-0.152152</td>\n",
       "      <td>-0.508959</td>\n",
       "      <td>1.746840</td>\n",
       "      <td>-1.090178</td>\n",
       "      <td>0.249486</td>\n",
       "      <td>1.143312</td>\n",
       "      <td>0.518269</td>\n",
       "      <td>-0.065130</td>\n",
       "      <td>-0.205698</td>\n",
       "      <td>0.575231</td>\n",
       "      <td>...</td>\n",
       "      <td>-0.378223</td>\n",
       "      <td>-0.146927</td>\n",
       "      <td>-0.038212</td>\n",
       "      <td>-0.214048</td>\n",
       "      <td>-1.893131</td>\n",
       "      <td>1.003963</td>\n",
       "      <td>-0.515950</td>\n",
       "      <td>-0.165316</td>\n",
       "      <td>0.048424</td>\n",
       "      <td>5384.44</td>\n",
       "    </tr>\n",
       "    <tr>\n",
       "      <th>4</th>\n",
       "      <td>-0.206820</td>\n",
       "      <td>-0.165280</td>\n",
       "      <td>1.527053</td>\n",
       "      <td>-0.448293</td>\n",
       "      <td>0.106125</td>\n",
       "      <td>0.530549</td>\n",
       "      <td>0.658849</td>\n",
       "      <td>-0.212660</td>\n",
       "      <td>1.049921</td>\n",
       "      <td>0.968046</td>\n",
       "      <td>...</td>\n",
       "      <td>0.247237</td>\n",
       "      <td>-0.106984</td>\n",
       "      <td>0.729727</td>\n",
       "      <td>-0.161666</td>\n",
       "      <td>0.312561</td>\n",
       "      <td>-0.414116</td>\n",
       "      <td>1.071126</td>\n",
       "      <td>0.023712</td>\n",
       "      <td>0.419117</td>\n",
       "      <td>14278.97</td>\n",
       "    </tr>\n",
       "  </tbody>\n",
       "</table>\n",
       "<p>5 rows × 29 columns</p>\n",
       "</div>"
      ],
      "text/plain": [
       "         V1        V2        V3        V4        V5        V6        V7  \\\n",
       "0 -0.260648 -0.469648  2.496266 -0.083724  0.129681  0.732898  0.519014   \n",
       "1  0.985100 -0.356045  0.558056 -0.429654  0.277140  0.428605  0.406466   \n",
       "2 -0.260272 -0.949385  1.728538 -0.457986  0.074062  1.419481  0.743511   \n",
       "3 -0.152152 -0.508959  1.746840 -1.090178  0.249486  1.143312  0.518269   \n",
       "4 -0.206820 -0.165280  1.527053 -0.448293  0.106125  0.530549  0.658849   \n",
       "\n",
       "         V8        V9       V10  ...       V20       V21       V22       V23  \\\n",
       "0 -0.130006  0.727159  0.637735  ...  0.091202 -0.110552  0.217606 -0.134794   \n",
       "1 -0.133118  0.347452  0.529808  ... -0.233984 -0.194936 -0.605761  0.079469   \n",
       "2 -0.095576 -0.261297  0.690708  ...  0.361652 -0.005020  0.702906  0.945045   \n",
       "3 -0.065130 -0.205698  0.575231  ... -0.378223 -0.146927 -0.038212 -0.214048   \n",
       "4 -0.212660  1.049921  0.968046  ...  0.247237 -0.106984  0.729727 -0.161666   \n",
       "\n",
       "        V24       V25       V26       V27       V28    Amount  \n",
       "0  0.165959  0.126280 -0.434824 -0.081230 -0.151045  17982.10  \n",
       "1 -0.577395  0.190090  0.296503 -0.248052 -0.064512   6531.37  \n",
       "2 -1.154666 -0.605564 -0.312895 -0.300258 -0.244718   2513.54  \n",
       "3 -1.893131  1.003963 -0.515950 -0.165316  0.048424   5384.44  \n",
       "4  0.312561 -0.414116  1.071126  0.023712  0.419117  14278.97  \n",
       "\n",
       "[5 rows x 29 columns]"
      ]
     },
     "execution_count": 20,
     "metadata": {},
     "output_type": "execute_result"
    },
    {
     "data": {
      "application/javascript": [
       "\n",
       "            setTimeout(function() {\n",
       "                var nbb_cell_id = 20;\n",
       "                var nbb_unformatted_code = \"# dataframe des features \\nX = credit[colonne_feature]\\nX.head()\";\n",
       "                var nbb_formatted_code = \"# dataframe des features\\nX = credit[colonne_feature]\\nX.head()\";\n",
       "                var nbb_cells = Jupyter.notebook.get_cells();\n",
       "                for (var i = 0; i < nbb_cells.length; ++i) {\n",
       "                    if (nbb_cells[i].input_prompt_number == nbb_cell_id) {\n",
       "                        if (nbb_cells[i].get_text() == nbb_unformatted_code) {\n",
       "                             nbb_cells[i].set_text(nbb_formatted_code);\n",
       "                        }\n",
       "                        break;\n",
       "                    }\n",
       "                }\n",
       "            }, 500);\n",
       "            "
      ],
      "text/plain": [
       "<IPython.core.display.Javascript object>"
      ]
     },
     "metadata": {},
     "output_type": "display_data"
    }
   ],
   "source": [
    "# dataframe des features\n",
    "X = credit[colonne_feature]\n",
    "X.head()"
   ]
  },
  {
   "cell_type": "code",
   "execution_count": 21,
   "id": "867710e0",
   "metadata": {},
   "outputs": [
    {
     "data": {
      "application/javascript": [
       "\n",
       "            setTimeout(function() {\n",
       "                var nbb_cell_id = 21;\n",
       "                var nbb_unformatted_code = \"# Standariser\\npreprocessor = make_column_transformer((StandardScaler(), colonne_feature))\";\n",
       "                var nbb_formatted_code = \"# Standariser\\npreprocessor = make_column_transformer((StandardScaler(), colonne_feature))\";\n",
       "                var nbb_cells = Jupyter.notebook.get_cells();\n",
       "                for (var i = 0; i < nbb_cells.length; ++i) {\n",
       "                    if (nbb_cells[i].input_prompt_number == nbb_cell_id) {\n",
       "                        if (nbb_cells[i].get_text() == nbb_unformatted_code) {\n",
       "                             nbb_cells[i].set_text(nbb_formatted_code);\n",
       "                        }\n",
       "                        break;\n",
       "                    }\n",
       "                }\n",
       "            }, 500);\n",
       "            "
      ],
      "text/plain": [
       "<IPython.core.display.Javascript object>"
      ]
     },
     "metadata": {},
     "output_type": "display_data"
    }
   ],
   "source": [
    "# Standariser\n",
    "preprocessor = make_column_transformer((StandardScaler(), colonne_feature))"
   ]
  },
  {
   "cell_type": "markdown",
   "id": "772785dd",
   "metadata": {},
   "source": [
    "# 4. Différentes variables X_train, X_test, Y_train, Y_test"
   ]
  },
  {
   "cell_type": "markdown",
   "id": "fc56c0fc",
   "metadata": {},
   "source": [
    "## 4.1 Définir les variables"
   ]
  },
  {
   "cell_type": "markdown",
   "id": "6c366b15",
   "metadata": {},
   "source": [
    "il est nécessaire d'utiliser des differentes variable pour une prédiction. Afin de facilité la lecture de la pédiction on explicitera les termes. \n",
    "\n",
    "\n",
    "\n",
    "X_train : correspond à Features engineering d'entrainement \n",
    "\n",
    "X_test : correspond à Features engineering du test \n",
    "\n",
    "y_train : correspond à taget d'entrainement  \n",
    "\n",
    "\n",
    "y_test :correspond à Features engineering d'entrainementaget du test "
   ]
  },
  {
   "cell_type": "markdown",
   "id": "c6b66115",
   "metadata": {},
   "source": [
    "## 4.2 Sélectionner les variables apprentissage et test"
   ]
  },
  {
   "cell_type": "markdown",
   "id": "d6cda1a0",
   "metadata": {},
   "source": [
    "Nous devons séparer les variables d'apprentissage de celles du test"
   ]
  },
  {
   "cell_type": "code",
   "execution_count": 22,
   "id": "54e29e9e",
   "metadata": {},
   "outputs": [
    {
     "name": "stdout",
     "output_type": "stream",
     "text": [
      "Entrainement: 454904 lignes,\n",
      "Test: 113726 lignes.\n",
      "\n"
     ]
    },
    {
     "data": {
      "application/javascript": [
       "\n",
       "            setTimeout(function() {\n",
       "                var nbb_cell_id = 22;\n",
       "                var nbb_unformatted_code = \"X_train, X_test, y_train, y_test = train_test_split(\\n    X, Y, test_size=0.2, random_state=42\\n)\\n\\nprint(\\n    \\\"Entrainement: {} lignes,\\\\nTest: {} lignes.\\\\n\\\".format(\\n        X_train.shape[0], X_test.shape[0]\\n    )\\n)\";\n",
       "                var nbb_formatted_code = \"X_train, X_test, y_train, y_test = train_test_split(\\n    X, Y, test_size=0.2, random_state=42\\n)\\n\\nprint(\\n    \\\"Entrainement: {} lignes,\\\\nTest: {} lignes.\\\\n\\\".format(\\n        X_train.shape[0], X_test.shape[0]\\n    )\\n)\";\n",
       "                var nbb_cells = Jupyter.notebook.get_cells();\n",
       "                for (var i = 0; i < nbb_cells.length; ++i) {\n",
       "                    if (nbb_cells[i].input_prompt_number == nbb_cell_id) {\n",
       "                        if (nbb_cells[i].get_text() == nbb_unformatted_code) {\n",
       "                             nbb_cells[i].set_text(nbb_formatted_code);\n",
       "                        }\n",
       "                        break;\n",
       "                    }\n",
       "                }\n",
       "            }, 500);\n",
       "            "
      ],
      "text/plain": [
       "<IPython.core.display.Javascript object>"
      ]
     },
     "metadata": {},
     "output_type": "display_data"
    }
   ],
   "source": [
    "X_train, X_test, y_train, y_test = train_test_split(\n",
    "    X, Y, test_size=0.2, random_state=42\n",
    ")\n",
    "\n",
    "print(\n",
    "    \"Entrainement: {} lignes,\\nTest: {} lignes.\\n\".format(\n",
    "        X_train.shape[0], X_test.shape[0]\n",
    "    )\n",
    ")"
   ]
  },
  {
   "cell_type": "markdown",
   "id": "a740a59c",
   "metadata": {},
   "source": [
    "# 5. Modèles potentiels pour Machine learning sans GridSearch"
   ]
  },
  {
   "cell_type": "markdown",
   "id": "f028c58b",
   "metadata": {},
   "source": [
    "## 5.1 RandomForestClassifier()"
   ]
  },
  {
   "cell_type": "code",
   "execution_count": 23,
   "id": "052d1d58",
   "metadata": {},
   "outputs": [
    {
     "data": {
      "application/javascript": [
       "\n",
       "            setTimeout(function() {\n",
       "                var nbb_cell_id = 23;\n",
       "                var nbb_unformatted_code = \"# RandomForestClassifier\\nmodel = make_pipeline(preprocessor, RandomForestClassifier())  # le mod\\u00e8le\\nmodel.fit(X_train, y_train)  # entrainement\\ny_pred = model.predict(X_test)  # prediction\";\n",
       "                var nbb_formatted_code = \"# RandomForestClassifier\\nmodel = make_pipeline(preprocessor, RandomForestClassifier())  # le mod\\u00e8le\\nmodel.fit(X_train, y_train)  # entrainement\\ny_pred = model.predict(X_test)  # prediction\";\n",
       "                var nbb_cells = Jupyter.notebook.get_cells();\n",
       "                for (var i = 0; i < nbb_cells.length; ++i) {\n",
       "                    if (nbb_cells[i].input_prompt_number == nbb_cell_id) {\n",
       "                        if (nbb_cells[i].get_text() == nbb_unformatted_code) {\n",
       "                             nbb_cells[i].set_text(nbb_formatted_code);\n",
       "                        }\n",
       "                        break;\n",
       "                    }\n",
       "                }\n",
       "            }, 500);\n",
       "            "
      ],
      "text/plain": [
       "<IPython.core.display.Javascript object>"
      ]
     },
     "metadata": {},
     "output_type": "display_data"
    }
   ],
   "source": [
    "# RandomForestClassifier\n",
    "model = make_pipeline(preprocessor, RandomForestClassifier())  # le modèle\n",
    "model.fit(X_train, y_train)  # entrainement\n",
    "y_pred = model.predict(X_test)  # prediction"
   ]
  },
  {
   "cell_type": "code",
   "execution_count": 24,
   "id": "d8810098",
   "metadata": {},
   "outputs": [
    {
     "data": {
      "text/plain": [
       "<sklearn.metrics._plot.confusion_matrix.ConfusionMatrixDisplay at 0x2ea84b2d450>"
      ]
     },
     "execution_count": 24,
     "metadata": {},
     "output_type": "execute_result"
    },
    {
     "data": {
      "image/png": "[encoded data removed]",
      "text/plain": [
       "<Figure size 640x480 with 2 Axes>"
      ]
     },
     "metadata": {},
     "output_type": "display_data"
    },
    {
     "data": {
      "application/javascript": [
       "\n",
       "            setTimeout(function() {\n",
       "                var nbb_cell_id = 24;\n",
       "                var nbb_unformatted_code = \"# Matrice de confusion\\nconfusion_matrix = metrics.confusion_matrix(y_test, y_pred)\\n\\ncm_display = metrics.ConfusionMatrixDisplay(\\n    confusion_matrix=confusion_matrix, display_labels=[False, True]\\n)\\n\\ncm_display.plot()\";\n",
       "                var nbb_formatted_code = \"# Matrice de confusion\\nconfusion_matrix = metrics.confusion_matrix(y_test, y_pred)\\n\\ncm_display = metrics.ConfusionMatrixDisplay(\\n    confusion_matrix=confusion_matrix, display_labels=[False, True]\\n)\\n\\ncm_display.plot()\";\n",
       "                var nbb_cells = Jupyter.notebook.get_cells();\n",
       "                for (var i = 0; i < nbb_cells.length; ++i) {\n",
       "                    if (nbb_cells[i].input_prompt_number == nbb_cell_id) {\n",
       "                        if (nbb_cells[i].get_text() == nbb_unformatted_code) {\n",
       "                             nbb_cells[i].set_text(nbb_formatted_code);\n",
       "                        }\n",
       "                        break;\n",
       "                    }\n",
       "                }\n",
       "            }, 500);\n",
       "            "
      ],
      "text/plain": [
       "<IPython.core.display.Javascript object>"
      ]
     },
     "metadata": {},
     "output_type": "display_data"
    }
   ],
   "source": [
    "# Matrice de confusion\n",
    "confusion_matrix = metrics.confusion_matrix(y_test, y_pred)\n",
    "\n",
    "cm_display = metrics.ConfusionMatrixDisplay(\n",
    "    confusion_matrix=confusion_matrix, display_labels=[False, True]\n",
    ")\n",
    "\n",
    "cm_display.plot()"
   ]
  },
  {
   "cell_type": "markdown",
   "id": "6f472a88",
   "metadata": {},
   "source": [
    "D'après la matrice de confusion le modèle est assez bon avec moins de 20 valeurs dans la mauvaise classe. En effet il y a 15 cartes piratées qui sont considérées comme non. "
   ]
  },
  {
   "cell_type": "markdown",
   "id": "89ec9c0f",
   "metadata": {},
   "source": [
    "## 5.2 Les différents modèles"
   ]
  },
  {
   "cell_type": "markdown",
   "id": "0eeeb8e7",
   "metadata": {},
   "source": [
    "Tout d'abord nous allons créer un dictionnaire contenant tous les modèles.  "
   ]
  },
  {
   "cell_type": "markdown",
   "id": "d4e3597b",
   "metadata": {},
   "source": [
    "### 5.2.1 les modèles"
   ]
  },
  {
   "cell_type": "markdown",
   "id": "223ac527",
   "metadata": {},
   "source": [
    "Il existe de nombreux modèles, dans notre projet nous utiliserons les suivants; RandomForestClassifier, KNeighborsClassifier, LogisticRegression, SVC"
   ]
  },
  {
   "cell_type": "code",
   "execution_count": 25,
   "id": "b7c7170b",
   "metadata": {},
   "outputs": [
    {
     "data": {
      "application/javascript": [
       "\n",
       "            setTimeout(function() {\n",
       "                var nbb_cell_id = 25;\n",
       "                var nbb_unformatted_code = \"# cr\\u00e9ation d'un dictionnaire de mod\\u00e8le\\nalgos = {\\n    \\\"RandomForestClassifier\\\": RandomForestClassifier(),\\n    \\\"KNeighborsClassifier\\\": KNeighborsClassifier(),\\n    \\\"LogisticRegression\\\": LogisticRegression(),\\n    \\\"SVM\\\": svm.SVC(),\\n}\";\n",
       "                var nbb_formatted_code = \"# cr\\u00e9ation d'un dictionnaire de mod\\u00e8le\\nalgos = {\\n    \\\"RandomForestClassifier\\\": RandomForestClassifier(),\\n    \\\"KNeighborsClassifier\\\": KNeighborsClassifier(),\\n    \\\"LogisticRegression\\\": LogisticRegression(),\\n    \\\"SVM\\\": svm.SVC(),\\n}\";\n",
       "                var nbb_cells = Jupyter.notebook.get_cells();\n",
       "                for (var i = 0; i < nbb_cells.length; ++i) {\n",
       "                    if (nbb_cells[i].input_prompt_number == nbb_cell_id) {\n",
       "                        if (nbb_cells[i].get_text() == nbb_unformatted_code) {\n",
       "                             nbb_cells[i].set_text(nbb_formatted_code);\n",
       "                        }\n",
       "                        break;\n",
       "                    }\n",
       "                }\n",
       "            }, 500);\n",
       "            "
      ],
      "text/plain": [
       "<IPython.core.display.Javascript object>"
      ]
     },
     "metadata": {},
     "output_type": "display_data"
    }
   ],
   "source": [
    "# création d'un dictionnaire de modèle\n",
    "algos = {\n",
    "    \"RandomForestClassifier\": RandomForestClassifier(),\n",
    "    \"KNeighborsClassifier\": KNeighborsClassifier(),\n",
    "    \"LogisticRegression\": LogisticRegression(),\n",
    "    \"SVM\": svm.SVC(),\n",
    "}"
   ]
  },
  {
   "cell_type": "markdown",
   "id": "8b416cb0",
   "metadata": {},
   "source": [
    "### 5.2.2 La prédiction"
   ]
  },
  {
   "cell_type": "markdown",
   "id": "e1912264",
   "metadata": {},
   "source": [
    "Ensuite nous créerons une liste *results* où nous mettrons nos résultats c'est à dire le nom du modèle, l'accuracy et le temps d'exécution du modèle."
   ]
  },
  {
   "cell_type": "code",
   "execution_count": 26,
   "id": "04e9bc7e",
   "metadata": {},
   "outputs": [
    {
     "data": {
      "application/javascript": [
       "\n",
       "            setTimeout(function() {\n",
       "                var nbb_cell_id = 26;\n",
       "                var nbb_unformatted_code = \"results = []  # cr\\u00e9ation d'une liste\";\n",
       "                var nbb_formatted_code = \"results = []  # cr\\u00e9ation d'une liste\";\n",
       "                var nbb_cells = Jupyter.notebook.get_cells();\n",
       "                for (var i = 0; i < nbb_cells.length; ++i) {\n",
       "                    if (nbb_cells[i].input_prompt_number == nbb_cell_id) {\n",
       "                        if (nbb_cells[i].get_text() == nbb_unformatted_code) {\n",
       "                             nbb_cells[i].set_text(nbb_formatted_code);\n",
       "                        }\n",
       "                        break;\n",
       "                    }\n",
       "                }\n",
       "            }, 500);\n",
       "            "
      ],
      "text/plain": [
       "<IPython.core.display.Javascript object>"
      ]
     },
     "metadata": {},
     "output_type": "display_data"
    }
   ],
   "source": [
    "results = []  # création d'une liste"
   ]
  },
  {
   "cell_type": "markdown",
   "id": "ac3c233c",
   "metadata": {},
   "source": [
    "Maintenant nous pouvons réaliser notre prédiction."
   ]
  },
  {
   "cell_type": "code",
   "execution_count": 27,
   "id": "70cdfa09",
   "metadata": {},
   "outputs": [
    {
     "data": {
      "application/javascript": [
       "\n",
       "            setTimeout(function() {\n",
       "                var nbb_cell_id = 27;\n",
       "                var nbb_unformatted_code = \"from sklearn.metrics import *\";\n",
       "                var nbb_formatted_code = \"from sklearn.metrics import *\";\n",
       "                var nbb_cells = Jupyter.notebook.get_cells();\n",
       "                for (var i = 0; i < nbb_cells.length; ++i) {\n",
       "                    if (nbb_cells[i].input_prompt_number == nbb_cell_id) {\n",
       "                        if (nbb_cells[i].get_text() == nbb_unformatted_code) {\n",
       "                             nbb_cells[i].set_text(nbb_formatted_code);\n",
       "                        }\n",
       "                        break;\n",
       "                    }\n",
       "                }\n",
       "            }, 500);\n",
       "            "
      ],
      "text/plain": [
       "<IPython.core.display.Javascript object>"
      ]
     },
     "metadata": {},
     "output_type": "display_data"
    }
   ],
   "source": [
    "from sklearn.metrics import *"
   ]
  },
  {
   "cell_type": "code",
   "execution_count": 28,
   "id": "5faafe45",
   "metadata": {},
   "outputs": [
    {
     "data": {
      "application/javascript": [
       "\n",
       "            setTimeout(function() {\n",
       "                var nbb_cell_id = 28;\n",
       "                var nbb_unformatted_code = \"from sklearn.metrics import accuracy_score\";\n",
       "                var nbb_formatted_code = \"from sklearn.metrics import accuracy_score\";\n",
       "                var nbb_cells = Jupyter.notebook.get_cells();\n",
       "                for (var i = 0; i < nbb_cells.length; ++i) {\n",
       "                    if (nbb_cells[i].input_prompt_number == nbb_cell_id) {\n",
       "                        if (nbb_cells[i].get_text() == nbb_unformatted_code) {\n",
       "                             nbb_cells[i].set_text(nbb_formatted_code);\n",
       "                        }\n",
       "                        break;\n",
       "                    }\n",
       "                }\n",
       "            }, 500);\n",
       "            "
      ],
      "text/plain": [
       "<IPython.core.display.Javascript object>"
      ]
     },
     "metadata": {},
     "output_type": "display_data"
    }
   ],
   "source": [
    "from sklearn.metrics import accuracy_score"
   ]
  },
  {
   "cell_type": "code",
   "execution_count": 29,
   "id": "acfdad0f",
   "metadata": {},
   "outputs": [
    {
     "name": "stdout",
     "output_type": "stream",
     "text": [
      "Algorithme: RandomForestClassifier\n",
      "              precision    recall  f1-score   support\n",
      "\n",
      "           0       1.00      1.00      1.00     56750\n",
      "           1       1.00      1.00      1.00     56976\n",
      "\n",
      "    accuracy                           1.00    113726\n",
      "   macro avg       1.00      1.00      1.00    113726\n",
      "weighted avg       1.00      1.00      1.00    113726\n",
      "\n",
      "1073.688\n",
      "----------------------------------------------------------------------------------------------------\n",
      "Algorithme: KNeighborsClassifier\n",
      "              precision    recall  f1-score   support\n",
      "\n",
      "           0       1.00      1.00      1.00     56750\n",
      "           1       1.00      1.00      1.00     56976\n",
      "\n",
      "    accuracy                           1.00    113726\n",
      "   macro avg       1.00      1.00      1.00    113726\n",
      "weighted avg       1.00      1.00      1.00    113726\n",
      "\n",
      "135.019\n",
      "----------------------------------------------------------------------------------------------------\n",
      "Algorithme: LogisticRegression\n",
      "              precision    recall  f1-score   support\n",
      "\n",
      "           0       0.95      0.98      0.97     56750\n",
      "           1       0.98      0.95      0.96     56976\n",
      "\n",
      "    accuracy                           0.97    113726\n",
      "   macro avg       0.97      0.97      0.97    113726\n",
      "weighted avg       0.97      0.97      0.97    113726\n",
      "\n",
      "3.888\n",
      "----------------------------------------------------------------------------------------------------\n",
      "Algorithme: SVM\n",
      "              precision    recall  f1-score   support\n",
      "\n",
      "           0       1.00      1.00      1.00     56750\n",
      "           1       1.00      1.00      1.00     56976\n",
      "\n",
      "    accuracy                           1.00    113726\n",
      "   macro avg       1.00      1.00      1.00    113726\n",
      "weighted avg       1.00      1.00      1.00    113726\n",
      "\n",
      "1072.795\n",
      "----------------------------------------------------------------------------------------------------\n"
     ]
    },
    {
     "data": {
      "application/javascript": [
       "\n",
       "            setTimeout(function() {\n",
       "                var nbb_cell_id = 29;\n",
       "                var nbb_unformatted_code = \"y = [\\\"Class\\\"]  # la valeur \\u00e0 pr\\u00e9dire, target\\n\\nfor nom_algo, algo in algos.items():  # parcourir dictionnaire\\n    print(f\\\"Algorithme: {nom_algo}\\\")  # nom du mod\\u00e8le\\n    for i in y:\\n        start = time.time()\\n        model = make_pipeline(preprocessor, algo)  # le mod\\u00e8le\\n        model.fit(X_train, y_train)  # entrainement\\n        y_pred = model.predict(X_test)  # prediction\\n        accuracy = accuracy_score(y_test, y_pred)\\n\\n        print(metrics.classification_report(y_test, y_pred))\\n        end = time.time()\\n        temps = round(end - start, 3)  # la dur\\u00e9e d'entrainement en secondes\\n        print(temps)\\n\\n        print(\\\"-\\\" * 100)  # la s\\u00e9paration\\n\\n        results.append([nom_algo, accuracy, temps])  # liste regroupant les donn\\u00e9es\";\n",
       "                var nbb_formatted_code = \"y = [\\\"Class\\\"]  # la valeur \\u00e0 pr\\u00e9dire, target\\n\\nfor nom_algo, algo in algos.items():  # parcourir dictionnaire\\n    print(f\\\"Algorithme: {nom_algo}\\\")  # nom du mod\\u00e8le\\n    for i in y:\\n        start = time.time()\\n        model = make_pipeline(preprocessor, algo)  # le mod\\u00e8le\\n        model.fit(X_train, y_train)  # entrainement\\n        y_pred = model.predict(X_test)  # prediction\\n        accuracy = accuracy_score(y_test, y_pred)\\n\\n        print(metrics.classification_report(y_test, y_pred))\\n        end = time.time()\\n        temps = round(end - start, 3)  # la dur\\u00e9e d'entrainement en secondes\\n        print(temps)\\n\\n        print(\\\"-\\\" * 100)  # la s\\u00e9paration\\n\\n        results.append([nom_algo, accuracy, temps])  # liste regroupant les donn\\u00e9es\";\n",
       "                var nbb_cells = Jupyter.notebook.get_cells();\n",
       "                for (var i = 0; i < nbb_cells.length; ++i) {\n",
       "                    if (nbb_cells[i].input_prompt_number == nbb_cell_id) {\n",
       "                        if (nbb_cells[i].get_text() == nbb_unformatted_code) {\n",
       "                             nbb_cells[i].set_text(nbb_formatted_code);\n",
       "                        }\n",
       "                        break;\n",
       "                    }\n",
       "                }\n",
       "            }, 500);\n",
       "            "
      ],
      "text/plain": [
       "<IPython.core.display.Javascript object>"
      ]
     },
     "metadata": {},
     "output_type": "display_data"
    }
   ],
   "source": [
    "y = [\"Class\"]  # la valeur à prédire, target\n",
    "\n",
    "for nom_algo, algo in algos.items():  # parcourir dictionnaire\n",
    "    print(f\"Algorithme: {nom_algo}\")  # nom du modèle\n",
    "    for i in y:\n",
    "        start = time.time()\n",
    "        model = make_pipeline(preprocessor, algo)  # le modèle\n",
    "        model.fit(X_train, y_train)  # entrainement\n",
    "        y_pred = model.predict(X_test)  # prediction\n",
    "        accuracy = accuracy_score(y_test, y_pred)\n",
    "\n",
    "        print(metrics.classification_report(y_test, y_pred))\n",
    "        end = time.time()\n",
    "        temps = round(end - start, 3)  # la durée d'entrainement en secondes\n",
    "        print(temps)\n",
    "\n",
    "        print(\"-\" * 100)  # la séparation\n",
    "\n",
    "        results.append([nom_algo, accuracy, temps])  # liste regroupant les données"
   ]
  },
  {
   "cell_type": "markdown",
   "id": "03e779d3",
   "metadata": {},
   "source": [
    "### 5.2.3. La valeur accuracy_score et le temps d'excusion"
   ]
  },
  {
   "cell_type": "markdown",
   "id": "82b2ef85",
   "metadata": {},
   "source": [
    "Il serait préférable de mettre tous nos résultats sous forme de dataframe."
   ]
  },
  {
   "cell_type": "code",
   "execution_count": 30,
   "id": "9682b6f4",
   "metadata": {},
   "outputs": [
    {
     "data": {
      "text/html": [
       "<div>\n",
       "<style scoped>\n",
       "    .dataframe tbody tr th:only-of-type {\n",
       "        vertical-align: middle;\n",
       "    }\n",
       "\n",
       "    .dataframe tbody tr th {\n",
       "        vertical-align: top;\n",
       "    }\n",
       "\n",
       "    .dataframe thead th {\n",
       "        text-align: right;\n",
       "    }\n",
       "</style>\n",
       "<table border=\"1\" class=\"dataframe\">\n",
       "  <thead>\n",
       "    <tr style=\"text-align: right;\">\n",
       "      <th></th>\n",
       "      <th>algorithme</th>\n",
       "      <th>accuracy</th>\n",
       "      <th>temps</th>\n",
       "    </tr>\n",
       "  </thead>\n",
       "  <tbody>\n",
       "    <tr>\n",
       "      <th>0</th>\n",
       "      <td>RandomForestClassifier</td>\n",
       "      <td>0.999877</td>\n",
       "      <td>1073.688</td>\n",
       "    </tr>\n",
       "    <tr>\n",
       "      <th>1</th>\n",
       "      <td>KNeighborsClassifier</td>\n",
       "      <td>0.997819</td>\n",
       "      <td>135.019</td>\n",
       "    </tr>\n",
       "    <tr>\n",
       "      <th>3</th>\n",
       "      <td>SVM</td>\n",
       "      <td>0.996852</td>\n",
       "      <td>1072.795</td>\n",
       "    </tr>\n",
       "    <tr>\n",
       "      <th>2</th>\n",
       "      <td>LogisticRegression</td>\n",
       "      <td>0.965276</td>\n",
       "      <td>3.888</td>\n",
       "    </tr>\n",
       "  </tbody>\n",
       "</table>\n",
       "</div>"
      ],
      "text/plain": [
       "               algorithme  accuracy     temps\n",
       "0  RandomForestClassifier  0.999877  1073.688\n",
       "1    KNeighborsClassifier  0.997819   135.019\n",
       "3                     SVM  0.996852  1072.795\n",
       "2      LogisticRegression  0.965276     3.888"
      ]
     },
     "metadata": {},
     "output_type": "display_data"
    },
    {
     "data": {
      "application/javascript": [
       "\n",
       "            setTimeout(function() {\n",
       "                var nbb_cell_id = 30;\n",
       "                var nbb_unformatted_code = \"# liste des nom des colonnes du futur dataFrame\\ncolonnes_resultats = [\\\"algorithme\\\", \\\"accuracy\\\", \\\"temps\\\"]\\n# DataFrame regroupent les resultats des mod\\u00e8le\\ndf_results = pd.DataFrame(results, columns=colonnes_resultats)\\ndisplay(df_results.sort_values(by=[\\\"accuracy\\\"], ascending=False))\";\n",
       "                var nbb_formatted_code = \"# liste des nom des colonnes du futur dataFrame\\ncolonnes_resultats = [\\\"algorithme\\\", \\\"accuracy\\\", \\\"temps\\\"]\\n# DataFrame regroupent les resultats des mod\\u00e8le\\ndf_results = pd.DataFrame(results, columns=colonnes_resultats)\\ndisplay(df_results.sort_values(by=[\\\"accuracy\\\"], ascending=False))\";\n",
       "                var nbb_cells = Jupyter.notebook.get_cells();\n",
       "                for (var i = 0; i < nbb_cells.length; ++i) {\n",
       "                    if (nbb_cells[i].input_prompt_number == nbb_cell_id) {\n",
       "                        if (nbb_cells[i].get_text() == nbb_unformatted_code) {\n",
       "                             nbb_cells[i].set_text(nbb_formatted_code);\n",
       "                        }\n",
       "                        break;\n",
       "                    }\n",
       "                }\n",
       "            }, 500);\n",
       "            "
      ],
      "text/plain": [
       "<IPython.core.display.Javascript object>"
      ]
     },
     "metadata": {},
     "output_type": "display_data"
    }
   ],
   "source": [
    "# liste des nom des colonnes du futur dataFrame\n",
    "colonnes_resultats = [\"algorithme\", \"accuracy\", \"temps\"]\n",
    "# DataFrame regroupent les resultats des modèle\n",
    "df_results = pd.DataFrame(results, columns=colonnes_resultats)\n",
    "display(df_results.sort_values(by=[\"accuracy\"], ascending=False))"
   ]
  },
  {
   "cell_type": "code",
   "execution_count": 31,
   "id": "1a320080",
   "metadata": {},
   "outputs": [
    {
     "data": {
      "text/plain": [
       "<Figure size 1200x800 with 0 Axes>"
      ]
     },
     "metadata": {},
     "output_type": "display_data"
    },
    {
     "data": {
      "image/png": "[encoded data removed]",
      "text/plain": [
       "<Figure size 1800x700 with 2 Axes>"
      ]
     },
     "metadata": {},
     "output_type": "display_data"
    },
    {
     "data": {
      "application/javascript": [
       "\n",
       "            setTimeout(function() {\n",
       "                var nbb_cell_id = 31;\n",
       "                var nbb_unformatted_code = \"#\\nplt.figure(figsize=(12, 8))\\n\\nfig, axs = plt.subplots(1, 2, figsize=(18, 7))\\n\\n# accuracy sans GridSearcCV\\nacc = sns.barplot(x=\\\"algorithme\\\", y=\\\"accuracy\\\", data=df_results, ax=axs[0])\\nacc.bar_label(acc.containers[0], fontsize=12)\\n\\n# Dur\\u00e9e sans GridSearcCV\\nduree = sns.barplot(x=\\\"algorithme\\\", y=\\\"temps\\\", data=df_results, ax=axs[1])\\nduree.bar_label(duree.containers[0], fontsize=12)\\n\\nax1 = axs[0]\\nax2 = axs[1]\\n\\nax1.set_xticklabels(ax1.get_xticklabels(), rotation=30, ha=\\\"right\\\")\\nax2.set_xticklabels(ax2.get_xticklabels(), rotation=30, ha=\\\"right\\\")\\n\\n\\naxs[0].grid()\\naxs[1].grid()\\n\\naxs[0].set_title(\\\"accuracy sans GridSearcCV\\\\n\\\", fontsize=14)\\naxs[1].set_title(\\\"Dur\\u00e9e en seconde sans GridSearcCV\\\\n\\\", fontsize=14)\\n\\nplt.show()\";\n",
       "                var nbb_formatted_code = \"#\\nplt.figure(figsize=(12, 8))\\n\\nfig, axs = plt.subplots(1, 2, figsize=(18, 7))\\n\\n# accuracy sans GridSearcCV\\nacc = sns.barplot(x=\\\"algorithme\\\", y=\\\"accuracy\\\", data=df_results, ax=axs[0])\\nacc.bar_label(acc.containers[0], fontsize=12)\\n\\n# Dur\\u00e9e sans GridSearcCV\\nduree = sns.barplot(x=\\\"algorithme\\\", y=\\\"temps\\\", data=df_results, ax=axs[1])\\nduree.bar_label(duree.containers[0], fontsize=12)\\n\\nax1 = axs[0]\\nax2 = axs[1]\\n\\nax1.set_xticklabels(ax1.get_xticklabels(), rotation=30, ha=\\\"right\\\")\\nax2.set_xticklabels(ax2.get_xticklabels(), rotation=30, ha=\\\"right\\\")\\n\\n\\naxs[0].grid()\\naxs[1].grid()\\n\\naxs[0].set_title(\\\"accuracy sans GridSearcCV\\\\n\\\", fontsize=14)\\naxs[1].set_title(\\\"Dur\\u00e9e en seconde sans GridSearcCV\\\\n\\\", fontsize=14)\\n\\nplt.show()\";\n",
       "                var nbb_cells = Jupyter.notebook.get_cells();\n",
       "                for (var i = 0; i < nbb_cells.length; ++i) {\n",
       "                    if (nbb_cells[i].input_prompt_number == nbb_cell_id) {\n",
       "                        if (nbb_cells[i].get_text() == nbb_unformatted_code) {\n",
       "                             nbb_cells[i].set_text(nbb_formatted_code);\n",
       "                        }\n",
       "                        break;\n",
       "                    }\n",
       "                }\n",
       "            }, 500);\n",
       "            "
      ],
      "text/plain": [
       "<IPython.core.display.Javascript object>"
      ]
     },
     "metadata": {},
     "output_type": "display_data"
    }
   ],
   "source": [
    "#\n",
    "plt.figure(figsize=(12, 8))\n",
    "\n",
    "fig, axs = plt.subplots(1, 2, figsize=(18, 7))\n",
    "\n",
    "# accuracy sans GridSearcCV\n",
    "acc = sns.barplot(x=\"algorithme\", y=\"accuracy\", data=df_results, ax=axs[0])\n",
    "acc.bar_label(acc.containers[0], fontsize=12)\n",
    "\n",
    "# Durée sans GridSearcCV\n",
    "duree = sns.barplot(x=\"algorithme\", y=\"temps\", data=df_results, ax=axs[1])\n",
    "duree.bar_label(duree.containers[0], fontsize=12)\n",
    "\n",
    "ax1 = axs[0]\n",
    "ax2 = axs[1]\n",
    "\n",
    "ax1.set_xticklabels(ax1.get_xticklabels(), rotation=30, ha=\"right\")\n",
    "ax2.set_xticklabels(ax2.get_xticklabels(), rotation=30, ha=\"right\")\n",
    "\n",
    "\n",
    "axs[0].grid()\n",
    "axs[1].grid()\n",
    "\n",
    "axs[0].set_title(\"accuracy sans GridSearcCV\\n\", fontsize=14)\n",
    "axs[1].set_title(\"Durée en seconde sans GridSearcCV\\n\", fontsize=14)\n",
    "\n",
    "plt.show()"
   ]
  },
  {
   "cell_type": "markdown",
   "id": "49c452ee",
   "metadata": {},
   "source": [
    "### 5.2.4 La matrice de confusion pour les 2 meilleurs modèles"
   ]
  },
  {
   "cell_type": "markdown",
   "id": "32a58f2e",
   "metadata": {},
   "source": [
    "Les 2 meilleurs modèles sont RandomForestClassifier et KNeighborsClassifier"
   ]
  },
  {
   "cell_type": "markdown",
   "id": "98a37147",
   "metadata": {},
   "source": [
    "### RandomForestClassifier"
   ]
  },
  {
   "cell_type": "code",
   "execution_count": 32,
   "id": "3a91e53a",
   "metadata": {},
   "outputs": [
    {
     "data": {
      "application/javascript": [
       "\n",
       "            setTimeout(function() {\n",
       "                var nbb_cell_id = 32;\n",
       "                var nbb_unformatted_code = \"# RandomForestClassifier\\nmodelrf = make_pipeline(preprocessor, RandomForestClassifier())  # le mod\\u00e8le\\nmodelrf.fit(X_train, y_train)  # entrainement\\ny_predrf = modelrf.predict(X_test)  # prediction\";\n",
       "                var nbb_formatted_code = \"# RandomForestClassifier\\nmodelrf = make_pipeline(preprocessor, RandomForestClassifier())  # le mod\\u00e8le\\nmodelrf.fit(X_train, y_train)  # entrainement\\ny_predrf = modelrf.predict(X_test)  # prediction\";\n",
       "                var nbb_cells = Jupyter.notebook.get_cells();\n",
       "                for (var i = 0; i < nbb_cells.length; ++i) {\n",
       "                    if (nbb_cells[i].input_prompt_number == nbb_cell_id) {\n",
       "                        if (nbb_cells[i].get_text() == nbb_unformatted_code) {\n",
       "                             nbb_cells[i].set_text(nbb_formatted_code);\n",
       "                        }\n",
       "                        break;\n",
       "                    }\n",
       "                }\n",
       "            }, 500);\n",
       "            "
      ],
      "text/plain": [
       "<IPython.core.display.Javascript object>"
      ]
     },
     "metadata": {},
     "output_type": "display_data"
    }
   ],
   "source": [
    "# RandomForestClassifier\n",
    "modelrf = make_pipeline(preprocessor, RandomForestClassifier())  # le modèle\n",
    "modelrf.fit(X_train, y_train)  # entrainement\n",
    "y_predrf = modelrf.predict(X_test)  # prediction"
   ]
  },
  {
   "cell_type": "code",
   "execution_count": 33,
   "id": "fa4b2ba4",
   "metadata": {},
   "outputs": [
    {
     "data": {
      "image/png": "[encoded data removed]",
      "text/plain": [
       "<Figure size 640x480 with 2 Axes>"
      ]
     },
     "metadata": {},
     "output_type": "display_data"
    },
    {
     "data": {
      "application/javascript": [
       "\n",
       "            setTimeout(function() {\n",
       "                var nbb_cell_id = 33;\n",
       "                var nbb_unformatted_code = \"# Matrice de confusion de RandomForestClassifier\\nconfusion_matrix = metrics.confusion_matrix(y_test, y_predrf)\\n\\ncm_display = metrics.ConfusionMatrixDisplay(\\n    confusion_matrix=confusion_matrix, display_labels=[False, True]\\n)\\n\\ncm_display.plot(cmap=plt.cm.Blues)\\nplt.show()\";\n",
       "                var nbb_formatted_code = \"# Matrice de confusion de RandomForestClassifier\\nconfusion_matrix = metrics.confusion_matrix(y_test, y_predrf)\\n\\ncm_display = metrics.ConfusionMatrixDisplay(\\n    confusion_matrix=confusion_matrix, display_labels=[False, True]\\n)\\n\\ncm_display.plot(cmap=plt.cm.Blues)\\nplt.show()\";\n",
       "                var nbb_cells = Jupyter.notebook.get_cells();\n",
       "                for (var i = 0; i < nbb_cells.length; ++i) {\n",
       "                    if (nbb_cells[i].input_prompt_number == nbb_cell_id) {\n",
       "                        if (nbb_cells[i].get_text() == nbb_unformatted_code) {\n",
       "                             nbb_cells[i].set_text(nbb_formatted_code);\n",
       "                        }\n",
       "                        break;\n",
       "                    }\n",
       "                }\n",
       "            }, 500);\n",
       "            "
      ],
      "text/plain": [
       "<IPython.core.display.Javascript object>"
      ]
     },
     "metadata": {},
     "output_type": "display_data"
    }
   ],
   "source": [
    "# Matrice de confusion de RandomForestClassifier\n",
    "confusion_matrix = metrics.confusion_matrix(y_test, y_predrf)\n",
    "\n",
    "cm_display = metrics.ConfusionMatrixDisplay(\n",
    "    confusion_matrix=confusion_matrix, display_labels=[False, True]\n",
    ")\n",
    "\n",
    "cm_display.plot(cmap=plt.cm.Blues)\n",
    "plt.show()"
   ]
  },
  {
   "cell_type": "markdown",
   "id": "dfa057b5",
   "metadata": {},
   "source": [
    "### KNeighborsClassifier"
   ]
  },
  {
   "cell_type": "code",
   "execution_count": 34,
   "id": "47264412",
   "metadata": {},
   "outputs": [
    {
     "data": {
      "application/javascript": [
       "\n",
       "            setTimeout(function() {\n",
       "                var nbb_cell_id = 34;\n",
       "                var nbb_unformatted_code = \"# KNeighborsClassifier\\nmodelkn = make_pipeline(preprocessor, KNeighborsClassifier())  # le mod\\u00e8le\\nmodelkn.fit(X_train, y_train)  # entrainement\\ny_predkn = modelkn.predict(X_test)  # prediction\";\n",
       "                var nbb_formatted_code = \"# KNeighborsClassifier\\nmodelkn = make_pipeline(preprocessor, KNeighborsClassifier())  # le mod\\u00e8le\\nmodelkn.fit(X_train, y_train)  # entrainement\\ny_predkn = modelkn.predict(X_test)  # prediction\";\n",
       "                var nbb_cells = Jupyter.notebook.get_cells();\n",
       "                for (var i = 0; i < nbb_cells.length; ++i) {\n",
       "                    if (nbb_cells[i].input_prompt_number == nbb_cell_id) {\n",
       "                        if (nbb_cells[i].get_text() == nbb_unformatted_code) {\n",
       "                             nbb_cells[i].set_text(nbb_formatted_code);\n",
       "                        }\n",
       "                        break;\n",
       "                    }\n",
       "                }\n",
       "            }, 500);\n",
       "            "
      ],
      "text/plain": [
       "<IPython.core.display.Javascript object>"
      ]
     },
     "metadata": {},
     "output_type": "display_data"
    }
   ],
   "source": [
    "# KNeighborsClassifier\n",
    "modelkn = make_pipeline(preprocessor, KNeighborsClassifier())  # le modèle\n",
    "modelkn.fit(X_train, y_train)  # entrainement\n",
    "y_predkn = modelkn.predict(X_test)  # prediction"
   ]
  },
  {
   "cell_type": "code",
   "execution_count": 73,
   "id": "c06cfbc5",
   "metadata": {},
   "outputs": [
    {
     "data": {
      "image/png": "[encoded data removed]",
      "text/plain": [
       "<Figure size 640x480 with 2 Axes>"
      ]
     },
     "metadata": {},
     "output_type": "display_data"
    },
    {
     "data": {
      "application/javascript": [
       "\n",
       "            setTimeout(function() {\n",
       "                var nbb_cell_id = 73;\n",
       "                var nbb_unformatted_code = \"# Matrice de confusion de KNeighborsClassifier\\nconfusion_matrix2 = metrics.confusion_matrix(y_test, y_predkn)\\n\\ncm_display2 = metrics.ConfusionMatrixDisplay(\\n    confusion_matrix=confusion_matrix2, display_labels=[False, True]\\n)\\n\\ncm_display2.plot(cmap=plt.cm.BuPu)\\nplt.show()\";\n",
       "                var nbb_formatted_code = \"# Matrice de confusion de KNeighborsClassifier\\nconfusion_matrix2 = metrics.confusion_matrix(y_test, y_predkn)\\n\\ncm_display2 = metrics.ConfusionMatrixDisplay(\\n    confusion_matrix=confusion_matrix2, display_labels=[False, True]\\n)\\n\\ncm_display2.plot(cmap=plt.cm.BuPu)\\nplt.show()\";\n",
       "                var nbb_cells = Jupyter.notebook.get_cells();\n",
       "                for (var i = 0; i < nbb_cells.length; ++i) {\n",
       "                    if (nbb_cells[i].input_prompt_number == nbb_cell_id) {\n",
       "                        if (nbb_cells[i].get_text() == nbb_unformatted_code) {\n",
       "                             nbb_cells[i].set_text(nbb_formatted_code);\n",
       "                        }\n",
       "                        break;\n",
       "                    }\n",
       "                }\n",
       "            }, 500);\n",
       "            "
      ],
      "text/plain": [
       "<IPython.core.display.Javascript object>"
      ]
     },
     "metadata": {},
     "output_type": "display_data"
    }
   ],
   "source": [
    "# Matrice de confusion de KNeighborsClassifier\n",
    "confusion_matrix2 = metrics.confusion_matrix(y_test, y_predkn)\n",
    "\n",
    "cm_display2 = metrics.ConfusionMatrixDisplay(\n",
    "    confusion_matrix=confusion_matrix2, display_labels=[False, True]\n",
    ")\n",
    "\n",
    "cm_display2.plot(cmap=plt.cm.BuPu)\n",
    "plt.show()"
   ]
  },
  {
   "cell_type": "markdown",
   "id": "6a43bdff",
   "metadata": {},
   "source": [
    "# 6. Meilleurs paramètres des modèles RandomForestClassifier et KNeighborsClassifier GridSearch"
   ]
  },
  {
   "cell_type": "markdown",
   "id": "90a64ca6",
   "metadata": {},
   "source": [
    "## 6.1  RandomForestClassifier"
   ]
  },
  {
   "cell_type": "markdown",
   "id": "ed746a9d",
   "metadata": {},
   "source": [
    "### 6.1.1 les hyperparamètres RandomForestClassifier"
   ]
  },
  {
   "cell_type": "markdown",
   "id": "b00cd43b",
   "metadata": {},
   "source": [
    "Nous allons afficher tous les hyperparamètres de chacun de nos modèles."
   ]
  },
  {
   "cell_type": "code",
   "execution_count": 36,
   "id": "b6363237",
   "metadata": {},
   "outputs": [
    {
     "name": "stdout",
     "output_type": "stream",
     "text": [
      "Algorithme: RandomForestClassifier\n",
      "\n",
      " les parametres :{'bootstrap': True, 'ccp_alpha': 0.0, 'class_weight': None, 'criterion': 'gini', 'max_depth': None, 'max_features': 'sqrt', 'max_leaf_nodes': None, 'max_samples': None, 'min_impurity_decrease': 0.0, 'min_samples_leaf': 1, 'min_samples_split': 2, 'min_weight_fraction_leaf': 0.0, 'n_estimators': 100, 'n_jobs': None, 'oob_score': False, 'random_state': None, 'verbose': 0, 'warm_start': False} \n",
      " \n",
      "----------------------------------------------------------------------------------------------------\n"
     ]
    },
    {
     "data": {
      "application/javascript": [
       "\n",
       "            setTimeout(function() {\n",
       "                var nbb_cell_id = 36;\n",
       "                var nbb_unformatted_code = \"paramsRamF = (\\n    RandomForestClassifier().get_params()\\n)  # les parametres RandomForestClassifier\\nprint(\\\"Algorithme: RandomForestClassifier\\\\n\\\")\\nprint(f\\\" les parametres :{paramsRamF} \\\\n \\\")\\nprint(\\\"-\\\" * 100)  # la s\\u00e9paration\";\n",
       "                var nbb_formatted_code = \"paramsRamF = (\\n    RandomForestClassifier().get_params()\\n)  # les parametres RandomForestClassifier\\nprint(\\\"Algorithme: RandomForestClassifier\\\\n\\\")\\nprint(f\\\" les parametres :{paramsRamF} \\\\n \\\")\\nprint(\\\"-\\\" * 100)  # la s\\u00e9paration\";\n",
       "                var nbb_cells = Jupyter.notebook.get_cells();\n",
       "                for (var i = 0; i < nbb_cells.length; ++i) {\n",
       "                    if (nbb_cells[i].input_prompt_number == nbb_cell_id) {\n",
       "                        if (nbb_cells[i].get_text() == nbb_unformatted_code) {\n",
       "                             nbb_cells[i].set_text(nbb_formatted_code);\n",
       "                        }\n",
       "                        break;\n",
       "                    }\n",
       "                }\n",
       "            }, 500);\n",
       "            "
      ],
      "text/plain": [
       "<IPython.core.display.Javascript object>"
      ]
     },
     "metadata": {},
     "output_type": "display_data"
    }
   ],
   "source": [
    "paramsRamF = (\n",
    "    RandomForestClassifier().get_params()\n",
    ")  # les parametres RandomForestClassifier\n",
    "print(\"Algorithme: RandomForestClassifier\\n\")\n",
    "print(f\" les parametres :{paramsRamF} \\n \")\n",
    "print(\"-\" * 100)  # la séparation"
   ]
  },
  {
   "cell_type": "code",
   "execution_count": 42,
   "id": "76aa8fec",
   "metadata": {},
   "outputs": [
    {
     "data": {
      "application/javascript": [
       "\n",
       "            setTimeout(function() {\n",
       "                var nbb_cell_id = 42;\n",
       "                var nbb_unformatted_code = \"params_RandomForestClassifier = {\\n    \\\"randomforestclassifier__n_estimators\\\": [100, 200],\\n    \\\"randomforestclassifier__min_samples_leaf\\\": [1, 2],\\n}\";\n",
       "                var nbb_formatted_code = \"params_RandomForestClassifier = {\\n    \\\"randomforestclassifier__n_estimators\\\": [100, 200],\\n    \\\"randomforestclassifier__min_samples_leaf\\\": [1, 2],\\n}\";\n",
       "                var nbb_cells = Jupyter.notebook.get_cells();\n",
       "                for (var i = 0; i < nbb_cells.length; ++i) {\n",
       "                    if (nbb_cells[i].input_prompt_number == nbb_cell_id) {\n",
       "                        if (nbb_cells[i].get_text() == nbb_unformatted_code) {\n",
       "                             nbb_cells[i].set_text(nbb_formatted_code);\n",
       "                        }\n",
       "                        break;\n",
       "                    }\n",
       "                }\n",
       "            }, 500);\n",
       "            "
      ],
      "text/plain": [
       "<IPython.core.display.Javascript object>"
      ]
     },
     "metadata": {},
     "output_type": "display_data"
    }
   ],
   "source": [
    "params_RandomForestClassifier = {\n",
    "    \"randomforestclassifier__n_estimators\": [100, 200],\n",
    "    \"randomforestclassifier__min_samples_leaf\": [1, 2],\n",
    "}"
   ]
  },
  {
   "cell_type": "markdown",
   "id": "efe992f0",
   "metadata": {},
   "source": [
    "### 6.1.2 les GridSearchCV avec RandomForestClassifier"
   ]
  },
  {
   "cell_type": "code",
   "execution_count": 43,
   "id": "8c31586a",
   "metadata": {},
   "outputs": [
    {
     "data": {
      "application/javascript": [
       "\n",
       "            setTimeout(function() {\n",
       "                var nbb_cell_id = 43;\n",
       "                var nbb_unformatted_code = \"model_RF = make_pipeline(preprocessor, RandomForestClassifier())  # mod\\u00e8le\\nparams = params_RandomForestClassifier  # hyperparam\\u00e8tres\";\n",
       "                var nbb_formatted_code = \"model_RF = make_pipeline(preprocessor, RandomForestClassifier())  # mod\\u00e8le\\nparams = params_RandomForestClassifier  # hyperparam\\u00e8tres\";\n",
       "                var nbb_cells = Jupyter.notebook.get_cells();\n",
       "                for (var i = 0; i < nbb_cells.length; ++i) {\n",
       "                    if (nbb_cells[i].input_prompt_number == nbb_cell_id) {\n",
       "                        if (nbb_cells[i].get_text() == nbb_unformatted_code) {\n",
       "                             nbb_cells[i].set_text(nbb_formatted_code);\n",
       "                        }\n",
       "                        break;\n",
       "                    }\n",
       "                }\n",
       "            }, 500);\n",
       "            "
      ],
      "text/plain": [
       "<IPython.core.display.Javascript object>"
      ]
     },
     "metadata": {},
     "output_type": "display_data"
    }
   ],
   "source": [
    "model_RF = make_pipeline(preprocessor, RandomForestClassifier())  # modèle\n",
    "params = params_RandomForestClassifier  # hyperparamètres"
   ]
  },
  {
   "cell_type": "code",
   "execution_count": 44,
   "id": "f2eb6115",
   "metadata": {},
   "outputs": [
    {
     "data": {
      "application/javascript": [
       "\n",
       "            setTimeout(function() {\n",
       "                var nbb_cell_id = 44;\n",
       "                var nbb_unformatted_code = \"# Gridsearch\\ngrid_model = GridSearchCV(model_RF, params, cv=5, scoring=\\\"precision\\\")\";\n",
       "                var nbb_formatted_code = \"# Gridsearch\\ngrid_model = GridSearchCV(model_RF, params, cv=5, scoring=\\\"precision\\\")\";\n",
       "                var nbb_cells = Jupyter.notebook.get_cells();\n",
       "                for (var i = 0; i < nbb_cells.length; ++i) {\n",
       "                    if (nbb_cells[i].input_prompt_number == nbb_cell_id) {\n",
       "                        if (nbb_cells[i].get_text() == nbb_unformatted_code) {\n",
       "                             nbb_cells[i].set_text(nbb_formatted_code);\n",
       "                        }\n",
       "                        break;\n",
       "                    }\n",
       "                }\n",
       "            }, 500);\n",
       "            "
      ],
      "text/plain": [
       "<IPython.core.display.Javascript object>"
      ]
     },
     "metadata": {},
     "output_type": "display_data"
    }
   ],
   "source": [
    "# Gridsearch\n",
    "grid_model = GridSearchCV(model_RF, params, cv=5, scoring=\"precision\")"
   ]
  },
  {
   "cell_type": "code",
   "execution_count": null,
   "id": "6610f95b",
   "metadata": {},
   "outputs": [],
   "source": [
    "grid_model.fit(X_train, y_train)"
   ]
  },
  {
   "cell_type": "code",
   "execution_count": 48,
   "id": "4fd3281d",
   "metadata": {},
   "outputs": [
    {
     "data": {
      "application/javascript": [
       "\n",
       "            setTimeout(function() {\n",
       "                var nbb_cell_id = 48;\n",
       "                var nbb_unformatted_code = \"best_para = grid_model.best_params_  # meilleur hyperparametre\\nbest_score = grid_model.best_score_  # meilleur score\";\n",
       "                var nbb_formatted_code = \"best_para = grid_model.best_params_  # meilleur hyperparametre\\nbest_score = grid_model.best_score_  # meilleur score\";\n",
       "                var nbb_cells = Jupyter.notebook.get_cells();\n",
       "                for (var i = 0; i < nbb_cells.length; ++i) {\n",
       "                    if (nbb_cells[i].input_prompt_number == nbb_cell_id) {\n",
       "                        if (nbb_cells[i].get_text() == nbb_unformatted_code) {\n",
       "                             nbb_cells[i].set_text(nbb_formatted_code);\n",
       "                        }\n",
       "                        break;\n",
       "                    }\n",
       "                }\n",
       "            }, 500);\n",
       "            "
      ],
      "text/plain": [
       "<IPython.core.display.Javascript object>"
      ]
     },
     "metadata": {},
     "output_type": "display_data"
    }
   ],
   "source": [
    "best_para = grid_model.best_params_  # meilleur hyperparametre RandomForestClassifier\n",
    "best_score = grid_model.best_score_  # meilleur score RandomForestClassifier"
   ]
  },
  {
   "cell_type": "code",
   "execution_count": 49,
   "id": "f62b5536",
   "metadata": {},
   "outputs": [
    {
     "name": "stdout",
     "output_type": "stream",
     "text": [
      " Algorithme :RandomForestClassifier \n",
      " Best paramètre :{'randomforestclassifier__min_samples_leaf': 1, 'randomforestclassifier__n_estimators': 200} \n",
      " score :0.9997185662115449 \n",
      "  \n"
     ]
    },
    {
     "data": {
      "application/javascript": [
       "\n",
       "            setTimeout(function() {\n",
       "                var nbb_cell_id = 49;\n",
       "                var nbb_unformatted_code = \"print(\\n    f\\\" Algorithme :RandomForestClassifier \\\\n Best param\\u00e8tre :{ best_para} \\\\n score :{ best_score} \\\\n  \\\"\\n)\";\n",
       "                var nbb_formatted_code = \"print(\\n    f\\\" Algorithme :RandomForestClassifier \\\\n Best param\\u00e8tre :{ best_para} \\\\n score :{ best_score} \\\\n  \\\"\\n)\";\n",
       "                var nbb_cells = Jupyter.notebook.get_cells();\n",
       "                for (var i = 0; i < nbb_cells.length; ++i) {\n",
       "                    if (nbb_cells[i].input_prompt_number == nbb_cell_id) {\n",
       "                        if (nbb_cells[i].get_text() == nbb_unformatted_code) {\n",
       "                             nbb_cells[i].set_text(nbb_formatted_code);\n",
       "                        }\n",
       "                        break;\n",
       "                    }\n",
       "                }\n",
       "            }, 500);\n",
       "            "
      ],
      "text/plain": [
       "<IPython.core.display.Javascript object>"
      ]
     },
     "metadata": {},
     "output_type": "display_data"
    }
   ],
   "source": [
    "print(\n",
    "    f\" Algorithme :RandomForestClassifier \\n Best paramètre :{ best_para} \\n score :{ best_score} \\n  \"\n",
    ")"
   ]
  },
  {
   "cell_type": "markdown",
   "id": "3a89c326",
   "metadata": {},
   "source": [
    "### 6.1.3 Matrice de confusion avec RandomForestClassifier"
   ]
  },
  {
   "cell_type": "code",
   "execution_count": 53,
   "id": "cb77742a",
   "metadata": {},
   "outputs": [
    {
     "data": {
      "application/javascript": [
       "\n",
       "            setTimeout(function() {\n",
       "                var nbb_cell_id = 53;\n",
       "                var nbb_unformatted_code = \"modelRF1 = make_pipeline(preprocessor, RandomForestClassifier(min_samples_leaf= 1, n_estimators= 200))  # le mod\\u00e8le\\nmodelRF1.fit(X_train, y_train)  # entrainement\\ny_predRF1 = modelRF1.predict(X_test)  # prediction\";\n",
       "                var nbb_formatted_code = \"modelRF1 = make_pipeline(\\n    preprocessor, RandomForestClassifier(min_samples_leaf=1, n_estimators=200)\\n)  # le mod\\u00e8le\\nmodelRF1.fit(X_train, y_train)  # entrainement\\ny_predRF1 = modelRF1.predict(X_test)  # prediction\";\n",
       "                var nbb_cells = Jupyter.notebook.get_cells();\n",
       "                for (var i = 0; i < nbb_cells.length; ++i) {\n",
       "                    if (nbb_cells[i].input_prompt_number == nbb_cell_id) {\n",
       "                        if (nbb_cells[i].get_text() == nbb_unformatted_code) {\n",
       "                             nbb_cells[i].set_text(nbb_formatted_code);\n",
       "                        }\n",
       "                        break;\n",
       "                    }\n",
       "                }\n",
       "            }, 500);\n",
       "            "
      ],
      "text/plain": [
       "<IPython.core.display.Javascript object>"
      ]
     },
     "metadata": {},
     "output_type": "display_data"
    }
   ],
   "source": [
    "modelRF1 = make_pipeline(\n",
    "    preprocessor, RandomForestClassifier(min_samples_leaf=1, n_estimators=200)\n",
    ")  # le modèle\n",
    "modelRF1.fit(X_train, y_train)  # entrainement\n",
    "y_predRF1 = modelRF1.predict(X_test)  # prediction"
   ]
  },
  {
   "cell_type": "code",
   "execution_count": 54,
   "id": "c21cbc52",
   "metadata": {},
   "outputs": [
    {
     "data": {
      "image/png": "[encoded data removed]",
      "text/plain": [
       "<Figure size 640x480 with 2 Axes>"
      ]
     },
     "metadata": {},
     "output_type": "display_data"
    },
    {
     "data": {
      "application/javascript": [
       "\n",
       "            setTimeout(function() {\n",
       "                var nbb_cell_id = 54;\n",
       "                var nbb_unformatted_code = \"# Matrice de confusion de RandomForestClassifier\\nconfusion_matrix1grid = metrics.confusion_matrix(y_test, y_predRF1)\\n\\ncm_display1grid = metrics.ConfusionMatrixDisplay(\\n    confusion_matrix=confusion_matrix1grid, display_labels=[False, True]\\n)\\n\\ncm_display1grid.plot(cmap=plt.cm.Blues)\\nplt.show()\";\n",
       "                var nbb_formatted_code = \"# Matrice de confusion de RandomForestClassifier\\nconfusion_matrix1grid = metrics.confusion_matrix(y_test, y_predRF1)\\n\\ncm_display1grid = metrics.ConfusionMatrixDisplay(\\n    confusion_matrix=confusion_matrix1grid, display_labels=[False, True]\\n)\\n\\ncm_display1grid.plot(cmap=plt.cm.Blues)\\nplt.show()\";\n",
       "                var nbb_cells = Jupyter.notebook.get_cells();\n",
       "                for (var i = 0; i < nbb_cells.length; ++i) {\n",
       "                    if (nbb_cells[i].input_prompt_number == nbb_cell_id) {\n",
       "                        if (nbb_cells[i].get_text() == nbb_unformatted_code) {\n",
       "                             nbb_cells[i].set_text(nbb_formatted_code);\n",
       "                        }\n",
       "                        break;\n",
       "                    }\n",
       "                }\n",
       "            }, 500);\n",
       "            "
      ],
      "text/plain": [
       "<IPython.core.display.Javascript object>"
      ]
     },
     "metadata": {},
     "output_type": "display_data"
    }
   ],
   "source": [
    "# Matrice de confusion de RandomForestClassifier\n",
    "confusion_matrix1grid = metrics.confusion_matrix(y_test, y_predRF1)\n",
    "\n",
    "cm_display1grid = metrics.ConfusionMatrixDisplay(\n",
    "    confusion_matrix=confusion_matrix1grid, display_labels=[False, True]\n",
    ")\n",
    "\n",
    "cm_display1grid.plot(cmap=plt.cm.Blues)\n",
    "plt.show()"
   ]
  },
  {
   "cell_type": "markdown",
   "id": "5272ce8d",
   "metadata": {},
   "source": [
    "## 6.2 KNeighborsClassifier()"
   ]
  },
  {
   "cell_type": "markdown",
   "id": "10793586",
   "metadata": {},
   "source": [
    "### 6.2.1 les hyperparamètres KNeighborsClassifier"
   ]
  },
  {
   "cell_type": "code",
   "execution_count": 55,
   "id": "a54cc03a",
   "metadata": {},
   "outputs": [
    {
     "name": "stdout",
     "output_type": "stream",
     "text": [
      "Algorithme: RandomForestClassifier\n",
      "\n",
      " les parametres :{'algorithm': 'auto', 'leaf_size': 30, 'metric': 'minkowski', 'metric_params': None, 'n_jobs': None, 'n_neighbors': 5, 'p': 2, 'weights': 'uniform'} \n",
      " \n",
      "----------------------------------------------------------------------------------------------------\n"
     ]
    },
    {
     "data": {
      "application/javascript": [
       "\n",
       "            setTimeout(function() {\n",
       "                var nbb_cell_id = 55;\n",
       "                var nbb_unformatted_code = \"paramsKN = KNeighborsClassifier().get_params()  # les parametres KNeighborsClassifier\\nprint(\\\"Algorithme: RandomForestClassifier\\\\n\\\")\\nprint(f\\\" les parametres :{paramsKN} \\\\n \\\")\\nprint(\\\"-\\\" * 100)  # la s\\u00e9paration\";\n",
       "                var nbb_formatted_code = \"paramsKN = KNeighborsClassifier().get_params()  # les parametres KNeighborsClassifier\\nprint(\\\"Algorithme: RandomForestClassifier\\\\n\\\")\\nprint(f\\\" les parametres :{paramsKN} \\\\n \\\")\\nprint(\\\"-\\\" * 100)  # la s\\u00e9paration\";\n",
       "                var nbb_cells = Jupyter.notebook.get_cells();\n",
       "                for (var i = 0; i < nbb_cells.length; ++i) {\n",
       "                    if (nbb_cells[i].input_prompt_number == nbb_cell_id) {\n",
       "                        if (nbb_cells[i].get_text() == nbb_unformatted_code) {\n",
       "                             nbb_cells[i].set_text(nbb_formatted_code);\n",
       "                        }\n",
       "                        break;\n",
       "                    }\n",
       "                }\n",
       "            }, 500);\n",
       "            "
      ],
      "text/plain": [
       "<IPython.core.display.Javascript object>"
      ]
     },
     "metadata": {},
     "output_type": "display_data"
    }
   ],
   "source": [
    "paramsKN = KNeighborsClassifier().get_params()  # les parametres KNeighborsClassifier\n",
    "print(\"Algorithme: RandomForestClassifier\\n\")\n",
    "print(f\" les parametres :{paramsKN} \\n \")\n",
    "print(\"-\" * 100)  # la séparation"
   ]
  },
  {
   "cell_type": "code",
   "execution_count": 56,
   "id": "e9d4c692",
   "metadata": {},
   "outputs": [
    {
     "data": {
      "application/javascript": [
       "\n",
       "            setTimeout(function() {\n",
       "                var nbb_cell_id = 56;\n",
       "                var nbb_unformatted_code = \"params_KNeighborsClassifier = {\\n    \\\"kneighborsclassifier__n_neighbors\\\": [3, 5, 7],\\n    \\\"kneighborsclassifier__weights\\\": [\\\"uniform\\\", \\\"distance\\\"],\\n}\";\n",
       "                var nbb_formatted_code = \"params_KNeighborsClassifier = {\\n    \\\"kneighborsclassifier__n_neighbors\\\": [3, 5, 7],\\n    \\\"kneighborsclassifier__weights\\\": [\\\"uniform\\\", \\\"distance\\\"],\\n}\";\n",
       "                var nbb_cells = Jupyter.notebook.get_cells();\n",
       "                for (var i = 0; i < nbb_cells.length; ++i) {\n",
       "                    if (nbb_cells[i].input_prompt_number == nbb_cell_id) {\n",
       "                        if (nbb_cells[i].get_text() == nbb_unformatted_code) {\n",
       "                             nbb_cells[i].set_text(nbb_formatted_code);\n",
       "                        }\n",
       "                        break;\n",
       "                    }\n",
       "                }\n",
       "            }, 500);\n",
       "            "
      ],
      "text/plain": [
       "<IPython.core.display.Javascript object>"
      ]
     },
     "metadata": {},
     "output_type": "display_data"
    }
   ],
   "source": [
    "params_KNeighborsClassifier = {\n",
    "    \"kneighborsclassifier__n_neighbors\": [3, 5, 7],\n",
    "    \"kneighborsclassifier__weights\": [\"uniform\", \"distance\"],\n",
    "}"
   ]
  },
  {
   "cell_type": "markdown",
   "id": "fb06ddac",
   "metadata": {},
   "source": [
    "### 6.2.2 les GridSearchCV avec KNeighborsClassifier"
   ]
  },
  {
   "cell_type": "code",
   "execution_count": 57,
   "id": "022c8250",
   "metadata": {},
   "outputs": [
    {
     "data": {
      "application/javascript": [
       "\n",
       "            setTimeout(function() {\n",
       "                var nbb_cell_id = 57;\n",
       "                var nbb_unformatted_code = \"model_KN = make_pipeline(preprocessor, KNeighborsClassifier())  # mod\\u00e8le\\nparams2 = params_KNeighborsClassifier  # hyperparam\\u00e8tres\";\n",
       "                var nbb_formatted_code = \"model_KN = make_pipeline(preprocessor, KNeighborsClassifier())  # mod\\u00e8le\\nparams2 = params_KNeighborsClassifier  # hyperparam\\u00e8tres\";\n",
       "                var nbb_cells = Jupyter.notebook.get_cells();\n",
       "                for (var i = 0; i < nbb_cells.length; ++i) {\n",
       "                    if (nbb_cells[i].input_prompt_number == nbb_cell_id) {\n",
       "                        if (nbb_cells[i].get_text() == nbb_unformatted_code) {\n",
       "                             nbb_cells[i].set_text(nbb_formatted_code);\n",
       "                        }\n",
       "                        break;\n",
       "                    }\n",
       "                }\n",
       "            }, 500);\n",
       "            "
      ],
      "text/plain": [
       "<IPython.core.display.Javascript object>"
      ]
     },
     "metadata": {},
     "output_type": "display_data"
    }
   ],
   "source": [
    "model_KN = make_pipeline(preprocessor, KNeighborsClassifier())  # modèle\n",
    "params2 = params_KNeighborsClassifier  # hyperparamètres"
   ]
  },
  {
   "cell_type": "code",
   "execution_count": 58,
   "id": "141c5d41",
   "metadata": {},
   "outputs": [
    {
     "data": {
      "application/javascript": [
       "\n",
       "            setTimeout(function() {\n",
       "                var nbb_cell_id = 58;\n",
       "                var nbb_unformatted_code = \"# Gridsearch\\ngrid_model2 = GridSearchCV(model_KN, params2, cv=5, scoring=\\\"precision\\\")\";\n",
       "                var nbb_formatted_code = \"# Gridsearch\\ngrid_model2 = GridSearchCV(model_KN, params2, cv=5, scoring=\\\"precision\\\")\";\n",
       "                var nbb_cells = Jupyter.notebook.get_cells();\n",
       "                for (var i = 0; i < nbb_cells.length; ++i) {\n",
       "                    if (nbb_cells[i].input_prompt_number == nbb_cell_id) {\n",
       "                        if (nbb_cells[i].get_text() == nbb_unformatted_code) {\n",
       "                             nbb_cells[i].set_text(nbb_formatted_code);\n",
       "                        }\n",
       "                        break;\n",
       "                    }\n",
       "                }\n",
       "            }, 500);\n",
       "            "
      ],
      "text/plain": [
       "<IPython.core.display.Javascript object>"
      ]
     },
     "metadata": {},
     "output_type": "display_data"
    }
   ],
   "source": [
    "# Gridsearch\n",
    "grid_model2 = GridSearchCV(model_KN, params2, cv=5, scoring=\"precision\")"
   ]
  },
  {
   "cell_type": "code",
   "execution_count": 59,
   "id": "eaa9da6e",
   "metadata": {},
   "outputs": [
    {
     "data": {
      "text/html": [
       "<style>#sk-container-id-2 {color: black;}#sk-container-id-2 pre{padding: 0;}#sk-container-id-2 div.sk-toggleable {background-color: white;}#sk-container-id-2 label.sk-toggleable__label {cursor: pointer;display: block;width: 100%;margin-bottom: 0;padding: 0.3em;box-sizing: border-box;text-align: center;}#sk-container-id-2 label.sk-toggleable__label-arrow:before {content: \"▸\";float: left;margin-right: 0.25em;color: #696969;}#sk-container-id-2 label.sk-toggleable__label-arrow:hover:before {color: black;}#sk-container-id-2 div.sk-estimator:hover label.sk-toggleable__label-arrow:before {color: black;}#sk-container-id-2 div.sk-toggleable__content {max-height: 0;max-width: 0;overflow: hidden;text-align: left;background-color: #f0f8ff;}#sk-container-id-2 div.sk-toggleable__content pre {margin: 0.2em;color: black;border-radius: 0.25em;background-color: #f0f8ff;}#sk-container-id-2 input.sk-toggleable__control:checked~div.sk-toggleable__content {max-height: 200px;max-width: 100%;overflow: auto;}#sk-container-id-2 input.sk-toggleable__control:checked~label.sk-toggleable__label-arrow:before {content: \"▾\";}#sk-container-id-2 div.sk-estimator input.sk-toggleable__control:checked~label.sk-toggleable__label {background-color: #d4ebff;}#sk-container-id-2 div.sk-label input.sk-toggleable__control:checked~label.sk-toggleable__label {background-color: #d4ebff;}#sk-container-id-2 input.sk-hidden--visually {border: 0;clip: rect(1px 1px 1px 1px);clip: rect(1px, 1px, 1px, 1px);height: 1px;margin: -1px;overflow: hidden;padding: 0;position: absolute;width: 1px;}#sk-container-id-2 div.sk-estimator {font-family: monospace;background-color: #f0f8ff;border: 1px dotted black;border-radius: 0.25em;box-sizing: border-box;margin-bottom: 0.5em;}#sk-container-id-2 div.sk-estimator:hover {background-color: #d4ebff;}#sk-container-id-2 div.sk-parallel-item::after {content: \"\";width: 100%;border-bottom: 1px solid gray;flex-grow: 1;}#sk-container-id-2 div.sk-label:hover label.sk-toggleable__label {background-color: #d4ebff;}#sk-container-id-2 div.sk-serial::before {content: \"\";position: absolute;border-left: 1px solid gray;box-sizing: border-box;top: 0;bottom: 0;left: 50%;z-index: 0;}#sk-container-id-2 div.sk-serial {display: flex;flex-direction: column;align-items: center;background-color: white;padding-right: 0.2em;padding-left: 0.2em;position: relative;}#sk-container-id-2 div.sk-item {position: relative;z-index: 1;}#sk-container-id-2 div.sk-parallel {display: flex;align-items: stretch;justify-content: center;background-color: white;position: relative;}#sk-container-id-2 div.sk-item::before, #sk-container-id-2 div.sk-parallel-item::before {content: \"\";position: absolute;border-left: 1px solid gray;box-sizing: border-box;top: 0;bottom: 0;left: 50%;z-index: -1;}#sk-container-id-2 div.sk-parallel-item {display: flex;flex-direction: column;z-index: 1;position: relative;background-color: white;}#sk-container-id-2 div.sk-parallel-item:first-child::after {align-self: flex-end;width: 50%;}#sk-container-id-2 div.sk-parallel-item:last-child::after {align-self: flex-start;width: 50%;}#sk-container-id-2 div.sk-parallel-item:only-child::after {width: 0;}#sk-container-id-2 div.sk-dashed-wrapped {border: 1px dashed gray;margin: 0 0.4em 0.5em 0.4em;box-sizing: border-box;padding-bottom: 0.4em;background-color: white;}#sk-container-id-2 div.sk-label label {font-family: monospace;font-weight: bold;display: inline-block;line-height: 1.2em;}#sk-container-id-2 div.sk-label-container {text-align: center;}#sk-container-id-2 div.sk-container {/* jupyter's `normalize.less` sets `[hidden] { display: none; }` but bootstrap.min.css set `[hidden] { display: none !important; }` so we also need the `!important` here to be able to override the default hidden behavior on the sphinx rendered scikit-learn.org. See: https://github.com/scikit-learn/scikit-learn/issues/21755 */display: inline-block !important;position: relative;}#sk-container-id-2 div.sk-text-repr-fallback {display: none;}</style><div id=\"sk-container-id-2\" class=\"sk-top-container\"><div class=\"sk-text-repr-fallback\"><pre>GridSearchCV(cv=5,\n",
       "             estimator=Pipeline(steps=[(&#x27;columntransformer&#x27;,\n",
       "                                        ColumnTransformer(transformers=[(&#x27;standardscaler&#x27;,\n",
       "                                                                         StandardScaler(),\n",
       "                                                                         [&#x27;V1&#x27;,\n",
       "                                                                          &#x27;V2&#x27;,\n",
       "                                                                          &#x27;V3&#x27;,\n",
       "                                                                          &#x27;V4&#x27;,\n",
       "                                                                          &#x27;V5&#x27;,\n",
       "                                                                          &#x27;V6&#x27;,\n",
       "                                                                          &#x27;V7&#x27;,\n",
       "                                                                          &#x27;V8&#x27;,\n",
       "                                                                          &#x27;V9&#x27;,\n",
       "                                                                          &#x27;V10&#x27;,\n",
       "                                                                          &#x27;V11&#x27;,\n",
       "                                                                          &#x27;V12&#x27;,\n",
       "                                                                          &#x27;V13&#x27;,\n",
       "                                                                          &#x27;V14&#x27;,\n",
       "                                                                          &#x27;V15&#x27;,\n",
       "                                                                          &#x27;V16&#x27;,\n",
       "                                                                          &#x27;V17&#x27;,\n",
       "                                                                          &#x27;V18&#x27;,\n",
       "                                                                          &#x27;V19&#x27;,\n",
       "                                                                          &#x27;V20&#x27;,\n",
       "                                                                          &#x27;V21&#x27;,\n",
       "                                                                          &#x27;V22&#x27;,\n",
       "                                                                          &#x27;V23&#x27;,\n",
       "                                                                          &#x27;V24&#x27;,\n",
       "                                                                          &#x27;V25&#x27;,\n",
       "                                                                          &#x27;V26&#x27;,\n",
       "                                                                          &#x27;V27&#x27;,\n",
       "                                                                          &#x27;V28&#x27;,\n",
       "                                                                          &#x27;Amount&#x27;])])),\n",
       "                                       (&#x27;kneighborsclassifier&#x27;,\n",
       "                                        KNeighborsClassifier())]),\n",
       "             param_grid={&#x27;kneighborsclassifier__n_neighbors&#x27;: [3, 5, 7],\n",
       "                         &#x27;kneighborsclassifier__weights&#x27;: [&#x27;uniform&#x27;,\n",
       "                                                           &#x27;distance&#x27;]},\n",
       "             scoring=&#x27;precision&#x27;)</pre><b>In a Jupyter environment, please rerun this cell to show the HTML representation or trust the notebook. <br />On GitHub, the HTML representation is unable to render, please try loading this page with nbviewer.org.</b></div><div class=\"sk-container\" hidden><div class=\"sk-item sk-dashed-wrapped\"><div class=\"sk-label-container\"><div class=\"sk-label sk-toggleable\"><input class=\"sk-toggleable__control sk-hidden--visually\" id=\"sk-estimator-id-7\" type=\"checkbox\" ><label for=\"sk-estimator-id-7\" class=\"sk-toggleable__label sk-toggleable__label-arrow\">GridSearchCV</label><div class=\"sk-toggleable__content\"><pre>GridSearchCV(cv=5,\n",
       "             estimator=Pipeline(steps=[(&#x27;columntransformer&#x27;,\n",
       "                                        ColumnTransformer(transformers=[(&#x27;standardscaler&#x27;,\n",
       "                                                                         StandardScaler(),\n",
       "                                                                         [&#x27;V1&#x27;,\n",
       "                                                                          &#x27;V2&#x27;,\n",
       "                                                                          &#x27;V3&#x27;,\n",
       "                                                                          &#x27;V4&#x27;,\n",
       "                                                                          &#x27;V5&#x27;,\n",
       "                                                                          &#x27;V6&#x27;,\n",
       "                                                                          &#x27;V7&#x27;,\n",
       "                                                                          &#x27;V8&#x27;,\n",
       "                                                                          &#x27;V9&#x27;,\n",
       "                                                                          &#x27;V10&#x27;,\n",
       "                                                                          &#x27;V11&#x27;,\n",
       "                                                                          &#x27;V12&#x27;,\n",
       "                                                                          &#x27;V13&#x27;,\n",
       "                                                                          &#x27;V14&#x27;,\n",
       "                                                                          &#x27;V15&#x27;,\n",
       "                                                                          &#x27;V16&#x27;,\n",
       "                                                                          &#x27;V17&#x27;,\n",
       "                                                                          &#x27;V18&#x27;,\n",
       "                                                                          &#x27;V19&#x27;,\n",
       "                                                                          &#x27;V20&#x27;,\n",
       "                                                                          &#x27;V21&#x27;,\n",
       "                                                                          &#x27;V22&#x27;,\n",
       "                                                                          &#x27;V23&#x27;,\n",
       "                                                                          &#x27;V24&#x27;,\n",
       "                                                                          &#x27;V25&#x27;,\n",
       "                                                                          &#x27;V26&#x27;,\n",
       "                                                                          &#x27;V27&#x27;,\n",
       "                                                                          &#x27;V28&#x27;,\n",
       "                                                                          &#x27;Amount&#x27;])])),\n",
       "                                       (&#x27;kneighborsclassifier&#x27;,\n",
       "                                        KNeighborsClassifier())]),\n",
       "             param_grid={&#x27;kneighborsclassifier__n_neighbors&#x27;: [3, 5, 7],\n",
       "                         &#x27;kneighborsclassifier__weights&#x27;: [&#x27;uniform&#x27;,\n",
       "                                                           &#x27;distance&#x27;]},\n",
       "             scoring=&#x27;precision&#x27;)</pre></div></div></div><div class=\"sk-parallel\"><div class=\"sk-parallel-item\"><div class=\"sk-item\"><div class=\"sk-label-container\"><div class=\"sk-label sk-toggleable\"><input class=\"sk-toggleable__control sk-hidden--visually\" id=\"sk-estimator-id-8\" type=\"checkbox\" ><label for=\"sk-estimator-id-8\" class=\"sk-toggleable__label sk-toggleable__label-arrow\">estimator: Pipeline</label><div class=\"sk-toggleable__content\"><pre>Pipeline(steps=[(&#x27;columntransformer&#x27;,\n",
       "                 ColumnTransformer(transformers=[(&#x27;standardscaler&#x27;,\n",
       "                                                  StandardScaler(),\n",
       "                                                  [&#x27;V1&#x27;, &#x27;V2&#x27;, &#x27;V3&#x27;, &#x27;V4&#x27;, &#x27;V5&#x27;,\n",
       "                                                   &#x27;V6&#x27;, &#x27;V7&#x27;, &#x27;V8&#x27;, &#x27;V9&#x27;,\n",
       "                                                   &#x27;V10&#x27;, &#x27;V11&#x27;, &#x27;V12&#x27;, &#x27;V13&#x27;,\n",
       "                                                   &#x27;V14&#x27;, &#x27;V15&#x27;, &#x27;V16&#x27;, &#x27;V17&#x27;,\n",
       "                                                   &#x27;V18&#x27;, &#x27;V19&#x27;, &#x27;V20&#x27;, &#x27;V21&#x27;,\n",
       "                                                   &#x27;V22&#x27;, &#x27;V23&#x27;, &#x27;V24&#x27;, &#x27;V25&#x27;,\n",
       "                                                   &#x27;V26&#x27;, &#x27;V27&#x27;, &#x27;V28&#x27;,\n",
       "                                                   &#x27;Amount&#x27;])])),\n",
       "                (&#x27;kneighborsclassifier&#x27;, KNeighborsClassifier())])</pre></div></div></div><div class=\"sk-serial\"><div class=\"sk-item\"><div class=\"sk-serial\"><div class=\"sk-item sk-dashed-wrapped\"><div class=\"sk-label-container\"><div class=\"sk-label sk-toggleable\"><input class=\"sk-toggleable__control sk-hidden--visually\" id=\"sk-estimator-id-9\" type=\"checkbox\" ><label for=\"sk-estimator-id-9\" class=\"sk-toggleable__label sk-toggleable__label-arrow\">columntransformer: ColumnTransformer</label><div class=\"sk-toggleable__content\"><pre>ColumnTransformer(transformers=[(&#x27;standardscaler&#x27;, StandardScaler(),\n",
       "                                 [&#x27;V1&#x27;, &#x27;V2&#x27;, &#x27;V3&#x27;, &#x27;V4&#x27;, &#x27;V5&#x27;, &#x27;V6&#x27;, &#x27;V7&#x27;,\n",
       "                                  &#x27;V8&#x27;, &#x27;V9&#x27;, &#x27;V10&#x27;, &#x27;V11&#x27;, &#x27;V12&#x27;, &#x27;V13&#x27;, &#x27;V14&#x27;,\n",
       "                                  &#x27;V15&#x27;, &#x27;V16&#x27;, &#x27;V17&#x27;, &#x27;V18&#x27;, &#x27;V19&#x27;, &#x27;V20&#x27;,\n",
       "                                  &#x27;V21&#x27;, &#x27;V22&#x27;, &#x27;V23&#x27;, &#x27;V24&#x27;, &#x27;V25&#x27;, &#x27;V26&#x27;,\n",
       "                                  &#x27;V27&#x27;, &#x27;V28&#x27;, &#x27;Amount&#x27;])])</pre></div></div></div><div class=\"sk-parallel\"><div class=\"sk-parallel-item\"><div class=\"sk-item\"><div class=\"sk-label-container\"><div class=\"sk-label sk-toggleable\"><input class=\"sk-toggleable__control sk-hidden--visually\" id=\"sk-estimator-id-10\" type=\"checkbox\" ><label for=\"sk-estimator-id-10\" class=\"sk-toggleable__label sk-toggleable__label-arrow\">standardscaler</label><div class=\"sk-toggleable__content\"><pre>[&#x27;V1&#x27;, &#x27;V2&#x27;, &#x27;V3&#x27;, &#x27;V4&#x27;, &#x27;V5&#x27;, &#x27;V6&#x27;, &#x27;V7&#x27;, &#x27;V8&#x27;, &#x27;V9&#x27;, &#x27;V10&#x27;, &#x27;V11&#x27;, &#x27;V12&#x27;, &#x27;V13&#x27;, &#x27;V14&#x27;, &#x27;V15&#x27;, &#x27;V16&#x27;, &#x27;V17&#x27;, &#x27;V18&#x27;, &#x27;V19&#x27;, &#x27;V20&#x27;, &#x27;V21&#x27;, &#x27;V22&#x27;, &#x27;V23&#x27;, &#x27;V24&#x27;, &#x27;V25&#x27;, &#x27;V26&#x27;, &#x27;V27&#x27;, &#x27;V28&#x27;, &#x27;Amount&#x27;]</pre></div></div></div><div class=\"sk-serial\"><div class=\"sk-item\"><div class=\"sk-estimator sk-toggleable\"><input class=\"sk-toggleable__control sk-hidden--visually\" id=\"sk-estimator-id-11\" type=\"checkbox\" ><label for=\"sk-estimator-id-11\" class=\"sk-toggleable__label sk-toggleable__label-arrow\">StandardScaler</label><div class=\"sk-toggleable__content\"><pre>StandardScaler()</pre></div></div></div></div></div></div></div></div><div class=\"sk-item\"><div class=\"sk-estimator sk-toggleable\"><input class=\"sk-toggleable__control sk-hidden--visually\" id=\"sk-estimator-id-12\" type=\"checkbox\" ><label for=\"sk-estimator-id-12\" class=\"sk-toggleable__label sk-toggleable__label-arrow\">KNeighborsClassifier</label><div class=\"sk-toggleable__content\"><pre>KNeighborsClassifier()</pre></div></div></div></div></div></div></div></div></div></div></div></div>"
      ],
      "text/plain": [
       "GridSearchCV(cv=5,\n",
       "             estimator=Pipeline(steps=[('columntransformer',\n",
       "                                        ColumnTransformer(transformers=[('standardscaler',\n",
       "                                                                         StandardScaler(),\n",
       "                                                                         ['V1',\n",
       "                                                                          'V2',\n",
       "                                                                          'V3',\n",
       "                                                                          'V4',\n",
       "                                                                          'V5',\n",
       "                                                                          'V6',\n",
       "                                                                          'V7',\n",
       "                                                                          'V8',\n",
       "                                                                          'V9',\n",
       "                                                                          'V10',\n",
       "                                                                          'V11',\n",
       "                                                                          'V12',\n",
       "                                                                          'V13',\n",
       "                                                                          'V14',\n",
       "                                                                          'V15',\n",
       "                                                                          'V16',\n",
       "                                                                          'V17',\n",
       "                                                                          'V18',\n",
       "                                                                          'V19',\n",
       "                                                                          'V20',\n",
       "                                                                          'V21',\n",
       "                                                                          'V22',\n",
       "                                                                          'V23',\n",
       "                                                                          'V24',\n",
       "                                                                          'V25',\n",
       "                                                                          'V26',\n",
       "                                                                          'V27',\n",
       "                                                                          'V28',\n",
       "                                                                          'Amount'])])),\n",
       "                                       ('kneighborsclassifier',\n",
       "                                        KNeighborsClassifier())]),\n",
       "             param_grid={'kneighborsclassifier__n_neighbors': [3, 5, 7],\n",
       "                         'kneighborsclassifier__weights': ['uniform',\n",
       "                                                           'distance']},\n",
       "             scoring='precision')"
      ]
     },
     "execution_count": 59,
     "metadata": {},
     "output_type": "execute_result"
    },
    {
     "data": {
      "application/javascript": [
       "\n",
       "            setTimeout(function() {\n",
       "                var nbb_cell_id = 59;\n",
       "                var nbb_unformatted_code = \"grid_model2.fit(X_train, y_train)\";\n",
       "                var nbb_formatted_code = \"grid_model2.fit(X_train, y_train)\";\n",
       "                var nbb_cells = Jupyter.notebook.get_cells();\n",
       "                for (var i = 0; i < nbb_cells.length; ++i) {\n",
       "                    if (nbb_cells[i].input_prompt_number == nbb_cell_id) {\n",
       "                        if (nbb_cells[i].get_text() == nbb_unformatted_code) {\n",
       "                             nbb_cells[i].set_text(nbb_formatted_code);\n",
       "                        }\n",
       "                        break;\n",
       "                    }\n",
       "                }\n",
       "            }, 500);\n",
       "            "
      ],
      "text/plain": [
       "<IPython.core.display.Javascript object>"
      ]
     },
     "metadata": {},
     "output_type": "display_data"
    }
   ],
   "source": [
    "grid_model2.fit(X_train, y_train)"
   ]
  },
  {
   "cell_type": "code",
   "execution_count": 62,
   "id": "db0b557e",
   "metadata": {},
   "outputs": [
    {
     "data": {
      "application/javascript": [
       "\n",
       "            setTimeout(function() {\n",
       "                var nbb_cell_id = 62;\n",
       "                var nbb_unformatted_code = \"best_para2 = grid_model2.best_params_  # meilleur hyperparametre KNeighborsClassifier\\nbest_score2 = grid_model2.best_score_  # meilleur score KNeighborsClassifier\";\n",
       "                var nbb_formatted_code = \"best_para2 = grid_model2.best_params_  # meilleur hyperparametre KNeighborsClassifier\\nbest_score2 = grid_model2.best_score_  # meilleur score KNeighborsClassifier\";\n",
       "                var nbb_cells = Jupyter.notebook.get_cells();\n",
       "                for (var i = 0; i < nbb_cells.length; ++i) {\n",
       "                    if (nbb_cells[i].input_prompt_number == nbb_cell_id) {\n",
       "                        if (nbb_cells[i].get_text() == nbb_unformatted_code) {\n",
       "                             nbb_cells[i].set_text(nbb_formatted_code);\n",
       "                        }\n",
       "                        break;\n",
       "                    }\n",
       "                }\n",
       "            }, 500);\n",
       "            "
      ],
      "text/plain": [
       "<IPython.core.display.Javascript object>"
      ]
     },
     "metadata": {},
     "output_type": "display_data"
    }
   ],
   "source": [
    "best_para2 = grid_model2.best_params_  # meilleur hyperparametre KNeighborsClassifier\n",
    "best_score2 = grid_model2.best_score_  # meilleur score KNeighborsClassifier"
   ]
  },
  {
   "cell_type": "code",
   "execution_count": 63,
   "id": "9b23d62c",
   "metadata": {},
   "outputs": [
    {
     "name": "stdout",
     "output_type": "stream",
     "text": [
      " Algorithme : KNeighborsClassifier \n",
      " Best paramètre :{'kneighborsclassifier__n_neighbors': 3, 'kneighborsclassifier__weights': 'distance'} \n",
      " score :0.9966768570115514 \n",
      "  \n"
     ]
    },
    {
     "data": {
      "application/javascript": [
       "\n",
       "            setTimeout(function() {\n",
       "                var nbb_cell_id = 63;\n",
       "                var nbb_unformatted_code = \"print(\\n    f\\\" Algorithme : KNeighborsClassifier \\\\n Best param\\u00e8tre :{ best_para2} \\\\n score :{ best_score2} \\\\n  \\\"\\n)\";\n",
       "                var nbb_formatted_code = \"print(\\n    f\\\" Algorithme : KNeighborsClassifier \\\\n Best param\\u00e8tre :{ best_para2} \\\\n score :{ best_score2} \\\\n  \\\"\\n)\";\n",
       "                var nbb_cells = Jupyter.notebook.get_cells();\n",
       "                for (var i = 0; i < nbb_cells.length; ++i) {\n",
       "                    if (nbb_cells[i].input_prompt_number == nbb_cell_id) {\n",
       "                        if (nbb_cells[i].get_text() == nbb_unformatted_code) {\n",
       "                             nbb_cells[i].set_text(nbb_formatted_code);\n",
       "                        }\n",
       "                        break;\n",
       "                    }\n",
       "                }\n",
       "            }, 500);\n",
       "            "
      ],
      "text/plain": [
       "<IPython.core.display.Javascript object>"
      ]
     },
     "metadata": {},
     "output_type": "display_data"
    }
   ],
   "source": [
    "print(\n",
    "    f\" Algorithme : KNeighborsClassifier \\n Best paramètre :{ best_para2} \\n score :{ best_score2} \\n  \"\n",
    ")"
   ]
  },
  {
   "cell_type": "code",
   "execution_count": 64,
   "id": "02fe3e77",
   "metadata": {},
   "outputs": [
    {
     "data": {
      "application/javascript": [
       "\n",
       "            setTimeout(function() {\n",
       "                var nbb_cell_id = 64;\n",
       "                var nbb_unformatted_code = \"#model avec les meilleurs hyperparam\\u00e8tres\\nmodel_KN_best = make_pipeline(\\n    preprocessor, KNeighborsClassifier(n_neighbors=3, weights=\\\"distance\\\")\\n)  # mod\\u00e8le\";\n",
       "                var nbb_formatted_code = \"# model avec les meilleurs hyperparam\\u00e8tres\\nmodel_KN_best = make_pipeline(\\n    preprocessor, KNeighborsClassifier(n_neighbors=3, weights=\\\"distance\\\")\\n)  # mod\\u00e8le\";\n",
       "                var nbb_cells = Jupyter.notebook.get_cells();\n",
       "                for (var i = 0; i < nbb_cells.length; ++i) {\n",
       "                    if (nbb_cells[i].input_prompt_number == nbb_cell_id) {\n",
       "                        if (nbb_cells[i].get_text() == nbb_unformatted_code) {\n",
       "                             nbb_cells[i].set_text(nbb_formatted_code);\n",
       "                        }\n",
       "                        break;\n",
       "                    }\n",
       "                }\n",
       "            }, 500);\n",
       "            "
      ],
      "text/plain": [
       "<IPython.core.display.Javascript object>"
      ]
     },
     "metadata": {},
     "output_type": "display_data"
    }
   ],
   "source": [
    "# model avec les meilleurs hyperparamètres\n",
    "model_KN_best = make_pipeline(\n",
    "    preprocessor, KNeighborsClassifier(n_neighbors=3, weights=\"distance\")\n",
    ")  # modèle"
   ]
  },
  {
   "cell_type": "code",
   "execution_count": 65,
   "id": "d82ba042",
   "metadata": {},
   "outputs": [
    {
     "data": {
      "application/javascript": [
       "\n",
       "            setTimeout(function() {\n",
       "                var nbb_cell_id = 65;\n",
       "                var nbb_unformatted_code = \"model_KN_best.fit(X_train, y_train)  # entrainement\\ny_predKN2 = model_KN_best.predict(X_test)  # prediction\";\n",
       "                var nbb_formatted_code = \"model_KN_best.fit(X_train, y_train)  # entrainement\\ny_predKN2 = model_KN_best.predict(X_test)  # prediction\";\n",
       "                var nbb_cells = Jupyter.notebook.get_cells();\n",
       "                for (var i = 0; i < nbb_cells.length; ++i) {\n",
       "                    if (nbb_cells[i].input_prompt_number == nbb_cell_id) {\n",
       "                        if (nbb_cells[i].get_text() == nbb_unformatted_code) {\n",
       "                             nbb_cells[i].set_text(nbb_formatted_code);\n",
       "                        }\n",
       "                        break;\n",
       "                    }\n",
       "                }\n",
       "            }, 500);\n",
       "            "
      ],
      "text/plain": [
       "<IPython.core.display.Javascript object>"
      ]
     },
     "metadata": {},
     "output_type": "display_data"
    }
   ],
   "source": [
    "model_KN_best.fit(X_train, y_train)  # entrainement\n",
    "y_predKN2 = model_KN_best.predict(X_test)  # prediction"
   ]
  },
  {
   "cell_type": "markdown",
   "id": "08569bc7",
   "metadata": {},
   "source": [
    "### 6.2.3 Matrice de confusion avec KNeighborsClassifier"
   ]
  },
  {
   "cell_type": "code",
   "execution_count": 72,
   "id": "4cedcd5c",
   "metadata": {},
   "outputs": [
    {
     "data": {
      "image/png": "[encoded data removed]",
      "text/plain": [
       "<Figure size 640x480 with 2 Axes>"
      ]
     },
     "metadata": {},
     "output_type": "display_data"
    },
    {
     "data": {
      "application/javascript": [
       "\n",
       "            setTimeout(function() {\n",
       "                var nbb_cell_id = 72;\n",
       "                var nbb_unformatted_code = \"# Matrice de confusion de KNeighborsClassifier\\nconfusion_matrix2grid = metrics.confusion_matrix(y_test, y_predKN2)\\n\\ncm_display2grid = metrics.ConfusionMatrixDisplay(\\n    confusion_matrix=confusion_matrix2grid, display_labels=[False, True]\\n)\\n\\ncm_display2grid.plot(cmap=plt.cm.BuPu)\\nplt.show()\";\n",
       "                var nbb_formatted_code = \"# Matrice de confusion de KNeighborsClassifier\\nconfusion_matrix2grid = metrics.confusion_matrix(y_test, y_predKN2)\\n\\ncm_display2grid = metrics.ConfusionMatrixDisplay(\\n    confusion_matrix=confusion_matrix2grid, display_labels=[False, True]\\n)\\n\\ncm_display2grid.plot(cmap=plt.cm.BuPu)\\nplt.show()\";\n",
       "                var nbb_cells = Jupyter.notebook.get_cells();\n",
       "                for (var i = 0; i < nbb_cells.length; ++i) {\n",
       "                    if (nbb_cells[i].input_prompt_number == nbb_cell_id) {\n",
       "                        if (nbb_cells[i].get_text() == nbb_unformatted_code) {\n",
       "                             nbb_cells[i].set_text(nbb_formatted_code);\n",
       "                        }\n",
       "                        break;\n",
       "                    }\n",
       "                }\n",
       "            }, 500);\n",
       "            "
      ],
      "text/plain": [
       "<IPython.core.display.Javascript object>"
      ]
     },
     "metadata": {},
     "output_type": "display_data"
    }
   ],
   "source": [
    "# Matrice de confusion de KNeighborsClassifier\n",
    "confusion_matrix2grid = metrics.confusion_matrix(y_test, y_predKN2)\n",
    "\n",
    "cm_display2grid = metrics.ConfusionMatrixDisplay(\n",
    "    confusion_matrix=confusion_matrix2grid, display_labels=[False, True]\n",
    ")\n",
    "\n",
    "cm_display2grid.plot(cmap=plt.cm.BuPu)\n",
    "plt.show()"
   ]
  },
  {
   "cell_type": "markdown",
   "id": "98a8129c",
   "metadata": {},
   "source": [
    "# Conclusion"
   ]
  },
  {
   "cell_type": "markdown",
   "id": "557faa8f",
   "metadata": {},
   "source": [
    "Le meilleur modèle est RandomForestClassifier avec un score supérieur à 0,9997. Cependant le temps d'exécution est très lente, il faut compter au moins une journée."
   ]
  },
  {
   "cell_type": "code",
   "execution_count": null,
   "id": "8793b7ab",
   "metadata": {},
   "outputs": [],
   "source": []
  }
 ],
 "metadata": {
  "kernelspec": {
   "display_name": "Python 3 (ipykernel)",
   "language": "python",
   "name": "python3"
  },
  "language_info": {
   "codemirror_mode": {
    "name": "ipython",
    "version": 3
   },
   "file_extension": ".py",
   "mimetype": "text/x-python",
   "name": "python",
   "nbconvert_exporter": "python",
   "pygments_lexer": "ipython3",
   "version": "3.11.4"
  }
 },
 "nbformat": 4,
 "nbformat_minor": 5
}
